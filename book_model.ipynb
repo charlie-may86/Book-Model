{
  "nbformat": 4,
  "nbformat_minor": 0,
  "metadata": {
    "colab": {
      "name": "book_model.ipynb",
      "provenance": [],
      "authorship_tag": "ABX9TyNFMctiKqDi/q7I9+LVrEmH",
      "include_colab_link": true
    },
    "kernelspec": {
      "name": "python3",
      "display_name": "Python 3"
    }
  },
  "cells": [
    {
      "cell_type": "markdown",
      "metadata": {
        "id": "view-in-github",
        "colab_type": "text"
      },
      "source": [
        "<a href=\"https://colab.research.google.com/github/charlie-may86/Book-Model/blob/master/book_model.ipynb\" target=\"_parent\"><img src=\"https://colab.research.google.com/assets/colab-badge.svg\" alt=\"Open In Colab\"/></a>"
      ]
    },
    {
      "cell_type": "markdown",
      "metadata": {
        "id": "efO-d-SElWC9",
        "colab_type": "text"
      },
      "source": [
        "How to think about the problem:\n",
        "Say I want to recommed only books which I think my users will rate as a 4 or 5?\n",
        "- 4-5 can be true\n",
        "- < 4 can be false  \n",
        "\n",
        "I have created a classification problem. \n",
        "\n",
        "[Data source can be find here](https://www.kaggle.com/zygmunt/goodbooks-10k?select=ratings.csv)"
      ]
    },
    {
      "cell_type": "code",
      "metadata": {
        "id": "o9VLRDFQ1n4R",
        "colab_type": "code",
        "colab": {}
      },
      "source": [
        "import io\n",
        "from google.colab import files\n",
        "import pandas as pd\n",
        "import numpy as np\n",
        "%matplotlib inline\n",
        "import math\n",
        "!pip install pdpbox\n",
        "from pdpbox.pdp import pdp_interact, pdp_interact_plot"
      ],
      "execution_count": 113,
      "outputs": []
    },
    {
      "cell_type": "code",
      "metadata": {
        "id": "XCQDrJ6Uj2Qd",
        "colab_type": "code",
        "colab": {
          "resources": {
            "http://localhost:8080/nbextensions/google.colab/files.js": {
              "data": "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",
              "ok": true,
              "headers": [
                [
                  "content-type",
                  "application/javascript"
                ]
              ],
              "status": 200,
              "status_text": ""
            }
          },
          "base_uri": "https://localhost:8080/",
          "height": 72
        },
        "outputId": "1a9682aa-04c2-4d83-de01-ac355a5da5cf"
      },
      "source": [
        "#upload books df\n",
        "upload = files.upload()"
      ],
      "execution_count": 114,
      "outputs": [
        {
          "output_type": "display_data",
          "data": {
            "text/html": [
              "\n",
              "     <input type=\"file\" id=\"files-1a7264c3-592c-4afd-82e6-f4ffb4735ad5\" name=\"files[]\" multiple disabled\n",
              "        style=\"border:none\" />\n",
              "     <output id=\"result-1a7264c3-592c-4afd-82e6-f4ffb4735ad5\">\n",
              "      Upload widget is only available when the cell has been executed in the\n",
              "      current browser session. Please rerun this cell to enable.\n",
              "      </output>\n",
              "      <script src=\"/nbextensions/google.colab/files.js\"></script> "
            ],
            "text/plain": [
              "<IPython.core.display.HTML object>"
            ]
          },
          "metadata": {
            "tags": []
          }
        },
        {
          "output_type": "stream",
          "text": [
            "Saving books_unit2_project.csv to books_unit2_project (2).csv\n"
          ],
          "name": "stdout"
        }
      ]
    },
    {
      "cell_type": "code",
      "metadata": {
        "id": "DtdqOWX__8Nt",
        "colab_type": "code",
        "colab": {}
      },
      "source": [
        "#read in books df\n",
        "books = pd.read_csv(io.BytesIO(upload['books_unit2_project.csv']), delimiter=',')"
      ],
      "execution_count": 115,
      "outputs": []
    },
    {
      "cell_type": "code",
      "metadata": {
        "id": "ly4XwmY6pfz8",
        "colab_type": "code",
        "colab": {
          "resources": {
            "http://localhost:8080/nbextensions/google.colab/files.js": {
              "data": "Ly8gQ29weXJpZ2h0IDIwMTcgR29vZ2xlIExMQwovLwovLyBMaWNlbnNlZCB1bmRlciB0aGUgQXBhY2hlIExpY2Vuc2UsIFZlcnNpb24gMi4wICh0aGUgIkxpY2Vuc2UiKTsKLy8geW91IG1heSBub3QgdXNlIHRoaXMgZmlsZSBleGNlcHQgaW4gY29tcGxpYW5jZSB3aXRoIHRoZSBMaWNlbnNlLgovLyBZb3UgbWF5IG9idGFpbiBhIGNvcHkgb2YgdGhlIExpY2Vuc2UgYXQKLy8KLy8gICAgICBodHRwOi8vd3d3LmFwYWNoZS5vcmcvbGljZW5zZXMvTElDRU5TRS0yLjAKLy8KLy8gVW5sZXNzIHJlcXVpcmVkIGJ5IGFwcGxpY2FibGUgbGF3IG9yIGFncmVlZCB0byBpbiB3cml0aW5nLCBzb2Z0d2FyZQovLyBkaXN0cmlidXRlZCB1bmRlciB0aGUgTGljZW5zZSBpcyBkaXN0cmlidXRlZCBvbiBhbiAiQVMgSVMiIEJBU0lTLAovLyBXSVRIT1VUIFdBUlJBTlRJRVMgT1IgQ09ORElUSU9OUyBPRiBBTlkgS0lORCwgZWl0aGVyIGV4cHJlc3Mgb3IgaW1wbGllZC4KLy8gU2VlIHRoZSBMaWNlbnNlIGZvciB0aGUgc3BlY2lmaWMgbGFuZ3VhZ2UgZ292ZXJuaW5nIHBlcm1pc3Npb25zIGFuZAovLyBsaW1pdGF0aW9ucyB1bmRlciB0aGUgTGljZW5zZS4KCi8qKgogKiBAZmlsZW92ZXJ2aWV3IEhlbHBlcnMgZm9yIGdvb2dsZS5jb2xhYiBQeXRob24gbW9kdWxlLgogKi8KKGZ1bmN0aW9uKHNjb3BlKSB7CmZ1bmN0aW9uIHNwYW4odGV4dCwgc3R5bGVBdHRyaWJ1dGVzID0ge30pIHsKICBjb25zdCBlbGVtZW50ID0gZG9jdW1lbnQuY3JlYXRlRWxlbWVudCgnc3BhbicpOwogIGVsZW1lbnQudGV4dENvbnRlbnQgPSB0ZXh0OwogIGZvciAoY29uc3Qga2V5IG9mIE9iamVjdC5rZXlzKHN0eWxlQXR0cmlidXRlcykpIHsKICAgIGVsZW1lbnQuc3R5bGVba2V5XSA9IHN0eWxlQXR0cmlidXRlc1trZXldOwogIH0KICByZXR1cm4gZWxlbWVudDsKfQoKLy8gTWF4IG51bWJlciBvZiBieXRlcyB3aGljaCB3aWxsIGJlIHVwbG9hZGVkIGF0IGEgdGltZS4KY29uc3QgTUFYX1BBWUxPQURfU0laRSA9IDEwMCAqIDEwMjQ7CgpmdW5jdGlvbiBfdXBsb2FkRmlsZXMoaW5wdXRJZCwgb3V0cHV0SWQpIHsKICBjb25zdCBzdGVwcyA9IHVwbG9hZEZpbGVzU3RlcChpbnB1dElkLCBvdXRwdXRJZCk7CiAgY29uc3Qgb3V0cHV0RWxlbWVudCA9IGRvY3VtZW50LmdldEVsZW1lbnRCeUlkKG91dHB1dElkKTsKICAvLyBDYWNoZSBzdGVwcyBvbiB0aGUgb3V0cHV0RWxlbWVudCB0byBtYWtlIGl0IGF2YWlsYWJsZSBmb3IgdGhlIG5leHQgY2FsbAogIC8vIHRvIHVwbG9hZEZpbGVzQ29udGludWUgZnJvbSBQeXRob24uCiAgb3V0cHV0RWxlbWVudC5zdGVwcyA9IHN0ZXBzOwoKICByZXR1cm4gX3VwbG9hZEZpbGVzQ29udGludWUob3V0cHV0SWQpOwp9CgovLyBUaGlzIGlzIHJvdWdobHkgYW4gYXN5bmMgZ2VuZXJhdG9yIChub3Qgc3VwcG9ydGVkIGluIHRoZSBicm93c2VyIHlldCksCi8vIHdoZXJlIHRoZXJlIGFyZSBtdWx0aXBsZSBhc3luY2hyb25vdXMgc3RlcHMgYW5kIHRoZSBQeXRob24gc2lkZSBpcyBnb2luZwovLyB0byBwb2xsIGZvciBjb21wbGV0aW9uIG9mIGVhY2ggc3RlcC4KLy8gVGhpcyB1c2VzIGEgUHJvbWlzZSB0byBibG9jayB0aGUgcHl0aG9uIHNpZGUgb24gY29tcGxldGlvbiBvZiBlYWNoIHN0ZXAsCi8vIHRoZW4gcGFzc2VzIHRoZSByZXN1bHQgb2YgdGhlIHByZXZpb3VzIHN0ZXAgYXMgdGhlIGlucHV0IHRvIHRoZSBuZXh0IHN0ZXAuCmZ1bmN0aW9uIF91cGxvYWRGaWxlc0NvbnRpbnVlKG91dHB1dElkKSB7CiAgY29uc3Qgb3V0cHV0RWxlbWVudCA9IGRvY3VtZW50LmdldEVsZW1lbnRCeUlkKG91dHB1dElkKTsKICBjb25zdCBzdGVwcyA9IG91dHB1dEVsZW1lbnQuc3RlcHM7CgogIGNvbnN0IG5leHQgPSBzdGVwcy5uZXh0KG91dHB1dEVsZW1lbnQubGFzdFByb21pc2VWYWx1ZSk7CiAgcmV0dXJuIFByb21pc2UucmVzb2x2ZShuZXh0LnZhbHVlLnByb21pc2UpLnRoZW4oKHZhbHVlKSA9PiB7CiAgICAvLyBDYWNoZSB0aGUgbGFzdCBwcm9taXNlIHZhbHVlIHRvIG1ha2UgaXQgYXZhaWxhYmxlIHRvIHRoZSBuZXh0CiAgICAvLyBzdGVwIG9mIHRoZSBnZW5lcmF0b3IuCiAgICBvdXRwdXRFbGVtZW50Lmxhc3RQcm9taXNlVmFsdWUgPSB2YWx1ZTsKICAgIHJldHVybiBuZXh0LnZhbHVlLnJlc3BvbnNlOwogIH0pOwp9CgovKioKICogR2VuZXJhdG9yIGZ1bmN0aW9uIHdoaWNoIGlzIGNhbGxlZCBiZXR3ZWVuIGVhY2ggYXN5bmMgc3RlcCBvZiB0aGUgdXBsb2FkCiAqIHByb2Nlc3MuCiAqIEBwYXJhbSB7c3RyaW5nfSBpbnB1dElkIEVsZW1lbnQgSUQgb2YgdGhlIGlucHV0IGZpbGUgcGlja2VyIGVsZW1lbnQuCiAqIEBwYXJhbSB7c3RyaW5nfSBvdXRwdXRJZCBFbGVtZW50IElEIG9mIHRoZSBvdXRwdXQgZGlzcGxheS4KICogQHJldHVybiB7IUl0ZXJhYmxlPCFPYmplY3Q+fSBJdGVyYWJsZSBvZiBuZXh0IHN0ZXBzLgogKi8KZnVuY3Rpb24qIHVwbG9hZEZpbGVzU3RlcChpbnB1dElkLCBvdXRwdXRJZCkgewogIGNvbnN0IGlucHV0RWxlbWVudCA9IGRvY3VtZW50LmdldEVsZW1lbnRCeUlkKGlucHV0SWQpOwogIGlucHV0RWxlbWVudC5kaXNhYmxlZCA9IGZhbHNlOwoKICBjb25zdCBvdXRwdXRFbGVtZW50ID0gZG9jdW1lbnQuZ2V0RWxlbWVudEJ5SWQob3V0cHV0SWQpOwogIG91dHB1dEVsZW1lbnQuaW5uZXJIVE1MID0gJyc7CgogIGNvbnN0IHBpY2tlZFByb21pc2UgPSBuZXcgUHJvbWlzZSgocmVzb2x2ZSkgPT4gewogICAgaW5wdXRFbGVtZW50LmFkZEV2ZW50TGlzdGVuZXIoJ2NoYW5nZScsIChlKSA9PiB7CiAgICAgIHJlc29sdmUoZS50YXJnZXQuZmlsZXMpOwogICAgfSk7CiAgfSk7CgogIGNvbnN0IGNhbmNlbCA9IGRvY3VtZW50LmNyZWF0ZUVsZW1lbnQoJ2J1dHRvbicpOwogIGlucHV0RWxlbWVudC5wYXJlbnRFbGVtZW50LmFwcGVuZENoaWxkKGNhbmNlbCk7CiAgY2FuY2VsLnRleHRDb250ZW50ID0gJ0NhbmNlbCB1cGxvYWQnOwogIGNvbnN0IGNhbmNlbFByb21pc2UgPSBuZXcgUHJvbWlzZSgocmVzb2x2ZSkgPT4gewogICAgY2FuY2VsLm9uY2xpY2sgPSAoKSA9PiB7CiAgICAgIHJlc29sdmUobnVsbCk7CiAgICB9OwogIH0pOwoKICAvLyBXYWl0IGZvciB0aGUgdXNlciB0byBwaWNrIHRoZSBmaWxlcy4KICBjb25zdCBmaWxlcyA9IHlpZWxkIHsKICAgIHByb21pc2U6IFByb21pc2UucmFjZShbcGlja2VkUHJvbWlzZSwgY2FuY2VsUHJvbWlzZV0pLAogICAgcmVzcG9uc2U6IHsKICAgICAgYWN0aW9uOiAnc3RhcnRpbmcnLAogICAgfQogIH07CgogIGNhbmNlbC5yZW1vdmUoKTsKCiAgLy8gRGlzYWJsZSB0aGUgaW5wdXQgZWxlbWVudCBzaW5jZSBmdXJ0aGVyIHBpY2tzIGFyZSBub3QgYWxsb3dlZC4KICBpbnB1dEVsZW1lbnQuZGlzYWJsZWQgPSB0cnVlOwoKICBpZiAoIWZpbGVzKSB7CiAgICByZXR1cm4gewogICAgICByZXNwb25zZTogewogICAgICAgIGFjdGlvbjogJ2NvbXBsZXRlJywKICAgICAgfQogICAgfTsKICB9CgogIGZvciAoY29uc3QgZmlsZSBvZiBmaWxlcykgewogICAgY29uc3QgbGkgPSBkb2N1bWVudC5jcmVhdGVFbGVtZW50KCdsaScpOwogICAgbGkuYXBwZW5kKHNwYW4oZmlsZS5uYW1lLCB7Zm9udFdlaWdodDogJ2JvbGQnfSkpOwogICAgbGkuYXBwZW5kKHNwYW4oCiAgICAgICAgYCgke2ZpbGUudHlwZSB8fCAnbi9hJ30pIC0gJHtmaWxlLnNpemV9IGJ5dGVzLCBgICsKICAgICAgICBgbGFzdCBtb2RpZmllZDogJHsKICAgICAgICAgICAgZmlsZS5sYXN0TW9kaWZpZWREYXRlID8gZmlsZS5sYXN0TW9kaWZpZWREYXRlLnRvTG9jYWxlRGF0ZVN0cmluZygpIDoKICAgICAgICAgICAgICAgICAgICAgICAgICAgICAgICAgICAgJ24vYSd9IC0gYCkpOwogICAgY29uc3QgcGVyY2VudCA9IHNwYW4oJzAlIGRvbmUnKTsKICAgIGxpLmFwcGVuZENoaWxkKHBlcmNlbnQpOwoKICAgIG91dHB1dEVsZW1lbnQuYXBwZW5kQ2hpbGQobGkpOwoKICAgIGNvbnN0IGZpbGVEYXRhUHJvbWlzZSA9IG5ldyBQcm9taXNlKChyZXNvbHZlKSA9PiB7CiAgICAgIGNvbnN0IHJlYWRlciA9IG5ldyBGaWxlUmVhZGVyKCk7CiAgICAgIHJlYWRlci5vbmxvYWQgPSAoZSkgPT4gewogICAgICAgIHJlc29sdmUoZS50YXJnZXQucmVzdWx0KTsKICAgICAgfTsKICAgICAgcmVhZGVyLnJlYWRBc0FycmF5QnVmZmVyKGZpbGUpOwogICAgfSk7CiAgICAvLyBXYWl0IGZvciB0aGUgZGF0YSB0byBiZSByZWFkeS4KICAgIGxldCBmaWxlRGF0YSA9IHlpZWxkIHsKICAgICAgcHJvbWlzZTogZmlsZURhdGFQcm9taXNlLAogICAgICByZXNwb25zZTogewogICAgICAgIGFjdGlvbjogJ2NvbnRpbnVlJywKICAgICAgfQogICAgfTsKCiAgICAvLyBVc2UgYSBjaHVua2VkIHNlbmRpbmcgdG8gYXZvaWQgbWVzc2FnZSBzaXplIGxpbWl0cy4gU2VlIGIvNjIxMTU2NjAuCiAgICBsZXQgcG9zaXRpb24gPSAwOwogICAgd2hpbGUgKHBvc2l0aW9uIDwgZmlsZURhdGEuYnl0ZUxlbmd0aCkgewogICAgICBjb25zdCBsZW5ndGggPSBNYXRoLm1pbihmaWxlRGF0YS5ieXRlTGVuZ3RoIC0gcG9zaXRpb24sIE1BWF9QQVlMT0FEX1NJWkUpOwogICAgICBjb25zdCBjaHVuayA9IG5ldyBVaW50OEFycmF5KGZpbGVEYXRhLCBwb3NpdGlvbiwgbGVuZ3RoKTsKICAgICAgcG9zaXRpb24gKz0gbGVuZ3RoOwoKICAgICAgY29uc3QgYmFzZTY0ID0gYnRvYShTdHJpbmcuZnJvbUNoYXJDb2RlLmFwcGx5KG51bGwsIGNodW5rKSk7CiAgICAgIHlpZWxkIHsKICAgICAgICByZXNwb25zZTogewogICAgICAgICAgYWN0aW9uOiAnYXBwZW5kJywKICAgICAgICAgIGZpbGU6IGZpbGUubmFtZSwKICAgICAgICAgIGRhdGE6IGJhc2U2NCwKICAgICAgICB9LAogICAgICB9OwogICAgICBwZXJjZW50LnRleHRDb250ZW50ID0KICAgICAgICAgIGAke01hdGgucm91bmQoKHBvc2l0aW9uIC8gZmlsZURhdGEuYnl0ZUxlbmd0aCkgKiAxMDApfSUgZG9uZWA7CiAgICB9CiAgfQoKICAvLyBBbGwgZG9uZS4KICB5aWVsZCB7CiAgICByZXNwb25zZTogewogICAgICBhY3Rpb246ICdjb21wbGV0ZScsCiAgICB9CiAgfTsKfQoKc2NvcGUuZ29vZ2xlID0gc2NvcGUuZ29vZ2xlIHx8IHt9OwpzY29wZS5nb29nbGUuY29sYWIgPSBzY29wZS5nb29nbGUuY29sYWIgfHwge307CnNjb3BlLmdvb2dsZS5jb2xhYi5fZmlsZXMgPSB7CiAgX3VwbG9hZEZpbGVzLAogIF91cGxvYWRGaWxlc0NvbnRpbnVlLAp9Owp9KShzZWxmKTsK",
              "ok": true,
              "headers": [
                [
                  "content-type",
                  "application/javascript"
                ]
              ],
              "status": 200,
              "status_text": ""
            }
          },
          "base_uri": "https://localhost:8080/",
          "height": 72
        },
        "outputId": "f55a001b-462c-40ce-dca7-89948b996049"
      },
      "source": [
        "#upload ratings df\n",
        "upload = files.upload()"
      ],
      "execution_count": 116,
      "outputs": [
        {
          "output_type": "display_data",
          "data": {
            "text/html": [
              "\n",
              "     <input type=\"file\" id=\"files-835b2aeb-c946-467e-a673-1cbf59460e24\" name=\"files[]\" multiple disabled\n",
              "        style=\"border:none\" />\n",
              "     <output id=\"result-835b2aeb-c946-467e-a673-1cbf59460e24\">\n",
              "      Upload widget is only available when the cell has been executed in the\n",
              "      current browser session. Please rerun this cell to enable.\n",
              "      </output>\n",
              "      <script src=\"/nbextensions/google.colab/files.js\"></script> "
            ],
            "text/plain": [
              "<IPython.core.display.HTML object>"
            ]
          },
          "metadata": {
            "tags": []
          }
        },
        {
          "output_type": "stream",
          "text": [
            "Saving ratings_unit2_project.csv to ratings_unit2_project (2).csv\n"
          ],
          "name": "stdout"
        }
      ]
    },
    {
      "cell_type": "code",
      "metadata": {
        "id": "OxVxdJ3bqbqT",
        "colab_type": "code",
        "colab": {}
      },
      "source": [
        "#read in ratings df\n",
        "ratings = pd.read_csv(io.BytesIO(upload['ratings_unit2_project.csv']), delimiter=',')"
      ],
      "execution_count": 117,
      "outputs": []
    },
    {
      "cell_type": "code",
      "metadata": {
        "id": "nrzjOz4pjMzT",
        "colab_type": "code",
        "colab": {}
      },
      "source": [
        "#create a df that contains user_id and their mean rating\n",
        "average_ratings = pd.DataFrame(ratings.groupby('user_id')['rating'].mean())\n",
        "\n",
        "#rename the column in average_ratings so it can be added as a separte column back to ratings\n",
        "average_ratings.rename(columns={\"rating\": \"average_user_rating\"}, inplace=True)\n",
        "average_ratings\n",
        "\n",
        "#merge ratings and average_ratings to add in a users average rating\n",
        "ratings_merged = ratings.merge(average_ratings, left_on='user_id', right_on='user_id')\n"
      ],
      "execution_count": 118,
      "outputs": []
    },
    {
      "cell_type": "code",
      "metadata": {
        "id": "y77huLcF9OLJ",
        "colab_type": "code",
        "colab": {
          "base_uri": "https://localhost:8080/",
          "height": 198
        },
        "outputId": "38ca1dc2-44ca-4019-aca0-f219dc79b59f"
      },
      "source": [
        "#check\n",
        "ratings_merged.head()"
      ],
      "execution_count": 119,
      "outputs": [
        {
          "output_type": "execute_result",
          "data": {
            "text/html": [
              "<div>\n",
              "<style scoped>\n",
              "    .dataframe tbody tr th:only-of-type {\n",
              "        vertical-align: middle;\n",
              "    }\n",
              "\n",
              "    .dataframe tbody tr th {\n",
              "        vertical-align: top;\n",
              "    }\n",
              "\n",
              "    .dataframe thead th {\n",
              "        text-align: right;\n",
              "    }\n",
              "</style>\n",
              "<table border=\"1\" class=\"dataframe\">\n",
              "  <thead>\n",
              "    <tr style=\"text-align: right;\">\n",
              "      <th></th>\n",
              "      <th>book_id</th>\n",
              "      <th>user_id</th>\n",
              "      <th>rating</th>\n",
              "      <th>average_user_rating</th>\n",
              "    </tr>\n",
              "  </thead>\n",
              "  <tbody>\n",
              "    <tr>\n",
              "      <th>0</th>\n",
              "      <td>1</td>\n",
              "      <td>314</td>\n",
              "      <td>5</td>\n",
              "      <td>3.585635</td>\n",
              "    </tr>\n",
              "    <tr>\n",
              "      <th>1</th>\n",
              "      <td>3</td>\n",
              "      <td>314</td>\n",
              "      <td>3</td>\n",
              "      <td>3.585635</td>\n",
              "    </tr>\n",
              "    <tr>\n",
              "      <th>2</th>\n",
              "      <td>5</td>\n",
              "      <td>314</td>\n",
              "      <td>4</td>\n",
              "      <td>3.585635</td>\n",
              "    </tr>\n",
              "    <tr>\n",
              "      <th>3</th>\n",
              "      <td>6</td>\n",
              "      <td>314</td>\n",
              "      <td>5</td>\n",
              "      <td>3.585635</td>\n",
              "    </tr>\n",
              "    <tr>\n",
              "      <th>4</th>\n",
              "      <td>12</td>\n",
              "      <td>314</td>\n",
              "      <td>4</td>\n",
              "      <td>3.585635</td>\n",
              "    </tr>\n",
              "  </tbody>\n",
              "</table>\n",
              "</div>"
            ],
            "text/plain": [
              "   book_id  user_id  rating  average_user_rating\n",
              "0        1      314       5             3.585635\n",
              "1        3      314       3             3.585635\n",
              "2        5      314       4             3.585635\n",
              "3        6      314       5             3.585635\n",
              "4       12      314       4             3.585635"
            ]
          },
          "metadata": {
            "tags": []
          },
          "execution_count": 119
        }
      ]
    },
    {
      "cell_type": "code",
      "metadata": {
        "id": "wz2y5fpIud__",
        "colab_type": "code",
        "colab": {
          "base_uri": "https://localhost:8080/",
          "height": 909
        },
        "outputId": "fa188fb6-415e-456a-902a-943da9eda178"
      },
      "source": [
        "#merge ratings df and books df \n",
        "df_merged = ratings_merged.merge(books, left_on='book_id', right_on='book_id')\n",
        "df_merged.head()"
      ],
      "execution_count": 120,
      "outputs": [
        {
          "output_type": "execute_result",
          "data": {
            "text/html": [
              "<div>\n",
              "<style scoped>\n",
              "    .dataframe tbody tr th:only-of-type {\n",
              "        vertical-align: middle;\n",
              "    }\n",
              "\n",
              "    .dataframe tbody tr th {\n",
              "        vertical-align: top;\n",
              "    }\n",
              "\n",
              "    .dataframe thead th {\n",
              "        text-align: right;\n",
              "    }\n",
              "</style>\n",
              "<table border=\"1\" class=\"dataframe\">\n",
              "  <thead>\n",
              "    <tr style=\"text-align: right;\">\n",
              "      <th></th>\n",
              "      <th>book_id</th>\n",
              "      <th>user_id</th>\n",
              "      <th>rating</th>\n",
              "      <th>average_user_rating</th>\n",
              "      <th>id</th>\n",
              "      <th>best_book_id</th>\n",
              "      <th>work_id</th>\n",
              "      <th>books_count</th>\n",
              "      <th>isbn</th>\n",
              "      <th>isbn13</th>\n",
              "      <th>authors</th>\n",
              "      <th>original_publication_year</th>\n",
              "      <th>original_title</th>\n",
              "      <th>title</th>\n",
              "      <th>language_code</th>\n",
              "      <th>average_rating</th>\n",
              "      <th>ratings_count</th>\n",
              "      <th>work_ratings_count</th>\n",
              "      <th>work_text_reviews_count</th>\n",
              "      <th>ratings_1</th>\n",
              "      <th>ratings_2</th>\n",
              "      <th>ratings_3</th>\n",
              "      <th>ratings_4</th>\n",
              "      <th>ratings_5</th>\n",
              "      <th>image_url</th>\n",
              "      <th>small_image_url</th>\n",
              "    </tr>\n",
              "  </thead>\n",
              "  <tbody>\n",
              "    <tr>\n",
              "      <th>0</th>\n",
              "      <td>1</td>\n",
              "      <td>314</td>\n",
              "      <td>5</td>\n",
              "      <td>3.585635</td>\n",
              "      <td>27</td>\n",
              "      <td>1</td>\n",
              "      <td>41335427</td>\n",
              "      <td>275</td>\n",
              "      <td>439785960</td>\n",
              "      <td>9.780440e+12</td>\n",
              "      <td>J.K. Rowling, Mary GrandPré</td>\n",
              "      <td>2005.0</td>\n",
              "      <td>Harry Potter and the Half-Blood Prince</td>\n",
              "      <td>Harry Potter and the Half-Blood Prince (Harry ...</td>\n",
              "      <td>eng</td>\n",
              "      <td>4.54</td>\n",
              "      <td>1678823</td>\n",
              "      <td>1785676</td>\n",
              "      <td>27520</td>\n",
              "      <td>7308</td>\n",
              "      <td>21516</td>\n",
              "      <td>136333</td>\n",
              "      <td>459028</td>\n",
              "      <td>1161491</td>\n",
              "      <td>https://images.gr-assets.com/books/1361039191m...</td>\n",
              "      <td>https://images.gr-assets.com/books/1361039191s...</td>\n",
              "    </tr>\n",
              "    <tr>\n",
              "      <th>1</th>\n",
              "      <td>1</td>\n",
              "      <td>439</td>\n",
              "      <td>3</td>\n",
              "      <td>3.259887</td>\n",
              "      <td>27</td>\n",
              "      <td>1</td>\n",
              "      <td>41335427</td>\n",
              "      <td>275</td>\n",
              "      <td>439785960</td>\n",
              "      <td>9.780440e+12</td>\n",
              "      <td>J.K. Rowling, Mary GrandPré</td>\n",
              "      <td>2005.0</td>\n",
              "      <td>Harry Potter and the Half-Blood Prince</td>\n",
              "      <td>Harry Potter and the Half-Blood Prince (Harry ...</td>\n",
              "      <td>eng</td>\n",
              "      <td>4.54</td>\n",
              "      <td>1678823</td>\n",
              "      <td>1785676</td>\n",
              "      <td>27520</td>\n",
              "      <td>7308</td>\n",
              "      <td>21516</td>\n",
              "      <td>136333</td>\n",
              "      <td>459028</td>\n",
              "      <td>1161491</td>\n",
              "      <td>https://images.gr-assets.com/books/1361039191m...</td>\n",
              "      <td>https://images.gr-assets.com/books/1361039191s...</td>\n",
              "    </tr>\n",
              "    <tr>\n",
              "      <th>2</th>\n",
              "      <td>1</td>\n",
              "      <td>588</td>\n",
              "      <td>5</td>\n",
              "      <td>3.618280</td>\n",
              "      <td>27</td>\n",
              "      <td>1</td>\n",
              "      <td>41335427</td>\n",
              "      <td>275</td>\n",
              "      <td>439785960</td>\n",
              "      <td>9.780440e+12</td>\n",
              "      <td>J.K. Rowling, Mary GrandPré</td>\n",
              "      <td>2005.0</td>\n",
              "      <td>Harry Potter and the Half-Blood Prince</td>\n",
              "      <td>Harry Potter and the Half-Blood Prince (Harry ...</td>\n",
              "      <td>eng</td>\n",
              "      <td>4.54</td>\n",
              "      <td>1678823</td>\n",
              "      <td>1785676</td>\n",
              "      <td>27520</td>\n",
              "      <td>7308</td>\n",
              "      <td>21516</td>\n",
              "      <td>136333</td>\n",
              "      <td>459028</td>\n",
              "      <td>1161491</td>\n",
              "      <td>https://images.gr-assets.com/books/1361039191m...</td>\n",
              "      <td>https://images.gr-assets.com/books/1361039191s...</td>\n",
              "    </tr>\n",
              "    <tr>\n",
              "      <th>3</th>\n",
              "      <td>1</td>\n",
              "      <td>1169</td>\n",
              "      <td>4</td>\n",
              "      <td>3.770053</td>\n",
              "      <td>27</td>\n",
              "      <td>1</td>\n",
              "      <td>41335427</td>\n",
              "      <td>275</td>\n",
              "      <td>439785960</td>\n",
              "      <td>9.780440e+12</td>\n",
              "      <td>J.K. Rowling, Mary GrandPré</td>\n",
              "      <td>2005.0</td>\n",
              "      <td>Harry Potter and the Half-Blood Prince</td>\n",
              "      <td>Harry Potter and the Half-Blood Prince (Harry ...</td>\n",
              "      <td>eng</td>\n",
              "      <td>4.54</td>\n",
              "      <td>1678823</td>\n",
              "      <td>1785676</td>\n",
              "      <td>27520</td>\n",
              "      <td>7308</td>\n",
              "      <td>21516</td>\n",
              "      <td>136333</td>\n",
              "      <td>459028</td>\n",
              "      <td>1161491</td>\n",
              "      <td>https://images.gr-assets.com/books/1361039191m...</td>\n",
              "      <td>https://images.gr-assets.com/books/1361039191s...</td>\n",
              "    </tr>\n",
              "    <tr>\n",
              "      <th>4</th>\n",
              "      <td>1</td>\n",
              "      <td>1185</td>\n",
              "      <td>4</td>\n",
              "      <td>3.473684</td>\n",
              "      <td>27</td>\n",
              "      <td>1</td>\n",
              "      <td>41335427</td>\n",
              "      <td>275</td>\n",
              "      <td>439785960</td>\n",
              "      <td>9.780440e+12</td>\n",
              "      <td>J.K. Rowling, Mary GrandPré</td>\n",
              "      <td>2005.0</td>\n",
              "      <td>Harry Potter and the Half-Blood Prince</td>\n",
              "      <td>Harry Potter and the Half-Blood Prince (Harry ...</td>\n",
              "      <td>eng</td>\n",
              "      <td>4.54</td>\n",
              "      <td>1678823</td>\n",
              "      <td>1785676</td>\n",
              "      <td>27520</td>\n",
              "      <td>7308</td>\n",
              "      <td>21516</td>\n",
              "      <td>136333</td>\n",
              "      <td>459028</td>\n",
              "      <td>1161491</td>\n",
              "      <td>https://images.gr-assets.com/books/1361039191m...</td>\n",
              "      <td>https://images.gr-assets.com/books/1361039191s...</td>\n",
              "    </tr>\n",
              "  </tbody>\n",
              "</table>\n",
              "</div>"
            ],
            "text/plain": [
              "   book_id  ...                                    small_image_url\n",
              "0        1  ...  https://images.gr-assets.com/books/1361039191s...\n",
              "1        1  ...  https://images.gr-assets.com/books/1361039191s...\n",
              "2        1  ...  https://images.gr-assets.com/books/1361039191s...\n",
              "3        1  ...  https://images.gr-assets.com/books/1361039191s...\n",
              "4        1  ...  https://images.gr-assets.com/books/1361039191s...\n",
              "\n",
              "[5 rows x 26 columns]"
            ]
          },
          "metadata": {
            "tags": []
          },
          "execution_count": 120
        }
      ]
    },
    {
      "cell_type": "code",
      "metadata": {
        "id": "qaplG1vqBBaJ",
        "colab_type": "code",
        "colab": {
          "base_uri": "https://localhost:8080/",
          "height": 308
        },
        "outputId": "7ba90b04-3220-45ca-a85e-490b9e16d83c"
      },
      "source": [
        "df_merged.describe()"
      ],
      "execution_count": 121,
      "outputs": [
        {
          "output_type": "execute_result",
          "data": {
            "text/html": [
              "<div>\n",
              "<style scoped>\n",
              "    .dataframe tbody tr th:only-of-type {\n",
              "        vertical-align: middle;\n",
              "    }\n",
              "\n",
              "    .dataframe tbody tr th {\n",
              "        vertical-align: top;\n",
              "    }\n",
              "\n",
              "    .dataframe thead th {\n",
              "        text-align: right;\n",
              "    }\n",
              "</style>\n",
              "<table border=\"1\" class=\"dataframe\">\n",
              "  <thead>\n",
              "    <tr style=\"text-align: right;\">\n",
              "      <th></th>\n",
              "      <th>book_id</th>\n",
              "      <th>user_id</th>\n",
              "      <th>rating</th>\n",
              "      <th>average_user_rating</th>\n",
              "      <th>id</th>\n",
              "      <th>best_book_id</th>\n",
              "      <th>work_id</th>\n",
              "      <th>books_count</th>\n",
              "      <th>isbn13</th>\n",
              "      <th>original_publication_year</th>\n",
              "      <th>average_rating</th>\n",
              "      <th>ratings_count</th>\n",
              "      <th>work_ratings_count</th>\n",
              "      <th>work_text_reviews_count</th>\n",
              "      <th>ratings_1</th>\n",
              "      <th>ratings_2</th>\n",
              "      <th>ratings_3</th>\n",
              "      <th>ratings_4</th>\n",
              "      <th>ratings_5</th>\n",
              "    </tr>\n",
              "  </thead>\n",
              "  <tbody>\n",
              "    <tr>\n",
              "      <th>count</th>\n",
              "      <td>79701.000000</td>\n",
              "      <td>79701.000000</td>\n",
              "      <td>79701.000000</td>\n",
              "      <td>79701.000000</td>\n",
              "      <td>79701.000000</td>\n",
              "      <td>7.970100e+04</td>\n",
              "      <td>7.970100e+04</td>\n",
              "      <td>79701.000000</td>\n",
              "      <td>7.930300e+04</td>\n",
              "      <td>79601.000000</td>\n",
              "      <td>79701.000000</td>\n",
              "      <td>7.970100e+04</td>\n",
              "      <td>7.970100e+04</td>\n",
              "      <td>79701.000000</td>\n",
              "      <td>79701.000000</td>\n",
              "      <td>79701.000000</td>\n",
              "      <td>79701.000000</td>\n",
              "      <td>7.970100e+04</td>\n",
              "      <td>7.970100e+04</td>\n",
              "    </tr>\n",
              "    <tr>\n",
              "      <th>mean</th>\n",
              "      <td>4909.956475</td>\n",
              "      <td>25730.617194</td>\n",
              "      <td>3.861645</td>\n",
              "      <td>3.857757</td>\n",
              "      <td>3336.508513</td>\n",
              "      <td>2.880303e+05</td>\n",
              "      <td>2.084769e+06</td>\n",
              "      <td>179.014291</td>\n",
              "      <td>9.768289e+12</td>\n",
              "      <td>1939.075916</td>\n",
              "      <td>3.940815</td>\n",
              "      <td>1.435863e+05</td>\n",
              "      <td>1.549325e+05</td>\n",
              "      <td>4429.072960</td>\n",
              "      <td>3774.000552</td>\n",
              "      <td>8277.743065</td>\n",
              "      <td>29418.200575</td>\n",
              "      <td>5.106888e+04</td>\n",
              "      <td>6.239363e+04</td>\n",
              "    </tr>\n",
              "    <tr>\n",
              "      <th>std</th>\n",
              "      <td>2814.028498</td>\n",
              "      <td>15160.145848</td>\n",
              "      <td>0.985792</td>\n",
              "      <td>0.536502</td>\n",
              "      <td>2898.695872</td>\n",
              "      <td>2.632681e+06</td>\n",
              "      <td>3.411570e+06</td>\n",
              "      <td>359.766233</td>\n",
              "      <td>3.443687e+11</td>\n",
              "      <td>293.751475</td>\n",
              "      <td>0.251891</td>\n",
              "      <td>3.519843e+05</td>\n",
              "      <td>3.719871e+05</td>\n",
              "      <td>8057.594656</td>\n",
              "      <td>10360.958972</td>\n",
              "      <td>19326.666191</td>\n",
              "      <td>61325.679544</td>\n",
              "      <td>1.127500e+05</td>\n",
              "      <td>1.851993e+05</td>\n",
              "    </tr>\n",
              "    <tr>\n",
              "      <th>min</th>\n",
              "      <td>1.000000</td>\n",
              "      <td>2.000000</td>\n",
              "      <td>1.000000</td>\n",
              "      <td>1.000000</td>\n",
              "      <td>2.000000</td>\n",
              "      <td>1.000000e+00</td>\n",
              "      <td>8.700000e+01</td>\n",
              "      <td>2.000000</td>\n",
              "      <td>7.678361e+10</td>\n",
              "      <td>-762.000000</td>\n",
              "      <td>2.800000</td>\n",
              "      <td>5.321000e+03</td>\n",
              "      <td>8.012000e+03</td>\n",
              "      <td>38.000000</td>\n",
              "      <td>39.000000</td>\n",
              "      <td>134.000000</td>\n",
              "      <td>911.000000</td>\n",
              "      <td>2.174000e+03</td>\n",
              "      <td>7.810000e+02</td>\n",
              "    </tr>\n",
              "    <tr>\n",
              "      <th>25%</th>\n",
              "      <td>2666.000000</td>\n",
              "      <td>12601.000000</td>\n",
              "      <td>3.000000</td>\n",
              "      <td>3.500000</td>\n",
              "      <td>790.000000</td>\n",
              "      <td>2.744000e+03</td>\n",
              "      <td>8.063110e+05</td>\n",
              "      <td>40.000000</td>\n",
              "      <td>9.780193e+12</td>\n",
              "      <td>1964.000000</td>\n",
              "      <td>3.780000</td>\n",
              "      <td>1.772300e+04</td>\n",
              "      <td>1.917500e+04</td>\n",
              "      <td>813.000000</td>\n",
              "      <td>281.000000</td>\n",
              "      <td>1009.000000</td>\n",
              "      <td>4438.000000</td>\n",
              "      <td>6.888000e+03</td>\n",
              "      <td>6.103000e+03</td>\n",
              "    </tr>\n",
              "    <tr>\n",
              "      <th>50%</th>\n",
              "      <td>5068.000000</td>\n",
              "      <td>25166.000000</td>\n",
              "      <td>4.000000</td>\n",
              "      <td>3.846154</td>\n",
              "      <td>2564.000000</td>\n",
              "      <td>5.128000e+03</td>\n",
              "      <td>1.385044e+06</td>\n",
              "      <td>75.000000</td>\n",
              "      <td>9.780385e+12</td>\n",
              "      <td>1994.000000</td>\n",
              "      <td>3.950000</td>\n",
              "      <td>3.761300e+04</td>\n",
              "      <td>4.211300e+04</td>\n",
              "      <td>1600.000000</td>\n",
              "      <td>763.000000</td>\n",
              "      <td>2271.000000</td>\n",
              "      <td>9481.000000</td>\n",
              "      <td>1.479600e+04</td>\n",
              "      <td>1.327700e+04</td>\n",
              "    </tr>\n",
              "    <tr>\n",
              "      <th>75%</th>\n",
              "      <td>7073.000000</td>\n",
              "      <td>38602.000000</td>\n",
              "      <td>5.000000</td>\n",
              "      <td>4.214286</td>\n",
              "      <td>5343.000000</td>\n",
              "      <td>7.199000e+03</td>\n",
              "      <td>2.713437e+06</td>\n",
              "      <td>130.000000</td>\n",
              "      <td>9.780680e+12</td>\n",
              "      <td>2001.000000</td>\n",
              "      <td>4.120000</td>\n",
              "      <td>1.139150e+05</td>\n",
              "      <td>1.226530e+05</td>\n",
              "      <td>4204.000000</td>\n",
              "      <td>2185.000000</td>\n",
              "      <td>6355.000000</td>\n",
              "      <td>24897.000000</td>\n",
              "      <td>4.291200e+04</td>\n",
              "      <td>4.613100e+04</td>\n",
              "    </tr>\n",
              "    <tr>\n",
              "      <th>max</th>\n",
              "      <td>9998.000000</td>\n",
              "      <td>53424.000000</td>\n",
              "      <td>5.000000</td>\n",
              "      <td>5.000000</td>\n",
              "      <td>10000.000000</td>\n",
              "      <td>3.358672e+07</td>\n",
              "      <td>4.133543e+07</td>\n",
              "      <td>3455.000000</td>\n",
              "      <td>9.788424e+12</td>\n",
              "      <td>2009.000000</td>\n",
              "      <td>4.770000</td>\n",
              "      <td>4.602479e+06</td>\n",
              "      <td>4.800065e+06</td>\n",
              "      <td>75867.000000</td>\n",
              "      <td>109383.000000</td>\n",
              "      <td>197621.000000</td>\n",
              "      <td>606158.000000</td>\n",
              "      <td>1.156318e+06</td>\n",
              "      <td>3.011543e+06</td>\n",
              "    </tr>\n",
              "  </tbody>\n",
              "</table>\n",
              "</div>"
            ],
            "text/plain": [
              "            book_id       user_id  ...     ratings_4     ratings_5\n",
              "count  79701.000000  79701.000000  ...  7.970100e+04  7.970100e+04\n",
              "mean    4909.956475  25730.617194  ...  5.106888e+04  6.239363e+04\n",
              "std     2814.028498  15160.145848  ...  1.127500e+05  1.851993e+05\n",
              "min        1.000000      2.000000  ...  2.174000e+03  7.810000e+02\n",
              "25%     2666.000000  12601.000000  ...  6.888000e+03  6.103000e+03\n",
              "50%     5068.000000  25166.000000  ...  1.479600e+04  1.327700e+04\n",
              "75%     7073.000000  38602.000000  ...  4.291200e+04  4.613100e+04\n",
              "max     9998.000000  53424.000000  ...  1.156318e+06  3.011543e+06\n",
              "\n",
              "[8 rows x 19 columns]"
            ]
          },
          "metadata": {
            "tags": []
          },
          "execution_count": 121
        }
      ]
    },
    {
      "cell_type": "code",
      "metadata": {
        "id": "6SCCdPQnpte_",
        "colab_type": "code",
        "colab": {
          "base_uri": "https://localhost:8080/",
          "height": 198
        },
        "outputId": "3c9e9ff0-6030-41d5-c285-95a70abfeb0c"
      },
      "source": [
        "isbn13_df = books['isbn13'].copy()\n",
        "isbn13_df = pd.DataFrame(data=isbn13_df)\n",
        "isbn13_df.head()"
      ],
      "execution_count": 122,
      "outputs": [
        {
          "output_type": "execute_result",
          "data": {
            "text/html": [
              "<div>\n",
              "<style scoped>\n",
              "    .dataframe tbody tr th:only-of-type {\n",
              "        vertical-align: middle;\n",
              "    }\n",
              "\n",
              "    .dataframe tbody tr th {\n",
              "        vertical-align: top;\n",
              "    }\n",
              "\n",
              "    .dataframe thead th {\n",
              "        text-align: right;\n",
              "    }\n",
              "</style>\n",
              "<table border=\"1\" class=\"dataframe\">\n",
              "  <thead>\n",
              "    <tr style=\"text-align: right;\">\n",
              "      <th></th>\n",
              "      <th>isbn13</th>\n",
              "    </tr>\n",
              "  </thead>\n",
              "  <tbody>\n",
              "    <tr>\n",
              "      <th>0</th>\n",
              "      <td>9.780439e+12</td>\n",
              "    </tr>\n",
              "    <tr>\n",
              "      <th>1</th>\n",
              "      <td>9.780440e+12</td>\n",
              "    </tr>\n",
              "    <tr>\n",
              "      <th>2</th>\n",
              "      <td>9.780316e+12</td>\n",
              "    </tr>\n",
              "    <tr>\n",
              "      <th>3</th>\n",
              "      <td>9.780061e+12</td>\n",
              "    </tr>\n",
              "    <tr>\n",
              "      <th>4</th>\n",
              "      <td>9.780743e+12</td>\n",
              "    </tr>\n",
              "  </tbody>\n",
              "</table>\n",
              "</div>"
            ],
            "text/plain": [
              "         isbn13\n",
              "0  9.780439e+12\n",
              "1  9.780440e+12\n",
              "2  9.780316e+12\n",
              "3  9.780061e+12\n",
              "4  9.780743e+12"
            ]
          },
          "metadata": {
            "tags": []
          },
          "execution_count": 122
        }
      ]
    },
    {
      "cell_type": "code",
      "metadata": {
        "id": "-v7NI2KBb8vI",
        "colab_type": "code",
        "colab": {}
      },
      "source": [
        "#drop the columns I know I will never need\n",
        "df_merged = df_merged.drop(['authors', 'original_title', 'title', 'image_url',\n",
        "                            'isbn', 'isbn13', 'small_image_url'], axis = 1)"
      ],
      "execution_count": 123,
      "outputs": []
    },
    {
      "cell_type": "code",
      "metadata": {
        "id": "KDjNSp5KYnVI",
        "colab_type": "code",
        "colab": {
          "base_uri": "https://localhost:8080/",
          "height": 35
        },
        "outputId": "2e51db01-f9e3-4d10-b3fc-387ca69a0135"
      },
      "source": [
        "df_merged.shape"
      ],
      "execution_count": 124,
      "outputs": [
        {
          "output_type": "execute_result",
          "data": {
            "text/plain": [
              "(79701, 19)"
            ]
          },
          "metadata": {
            "tags": []
          },
          "execution_count": 124
        }
      ]
    },
    {
      "cell_type": "code",
      "metadata": {
        "id": "dbuRdvG_hi2A",
        "colab_type": "code",
        "colab": {
          "base_uri": "https://localhost:8080/",
          "height": 218
        },
        "outputId": "b7e520f9-f351-4783-a7ff-4c4715cfffe5"
      },
      "source": [
        "#check\n",
        "df_merged.head()"
      ],
      "execution_count": 125,
      "outputs": [
        {
          "output_type": "execute_result",
          "data": {
            "text/html": [
              "<div>\n",
              "<style scoped>\n",
              "    .dataframe tbody tr th:only-of-type {\n",
              "        vertical-align: middle;\n",
              "    }\n",
              "\n",
              "    .dataframe tbody tr th {\n",
              "        vertical-align: top;\n",
              "    }\n",
              "\n",
              "    .dataframe thead th {\n",
              "        text-align: right;\n",
              "    }\n",
              "</style>\n",
              "<table border=\"1\" class=\"dataframe\">\n",
              "  <thead>\n",
              "    <tr style=\"text-align: right;\">\n",
              "      <th></th>\n",
              "      <th>book_id</th>\n",
              "      <th>user_id</th>\n",
              "      <th>rating</th>\n",
              "      <th>average_user_rating</th>\n",
              "      <th>id</th>\n",
              "      <th>best_book_id</th>\n",
              "      <th>work_id</th>\n",
              "      <th>books_count</th>\n",
              "      <th>original_publication_year</th>\n",
              "      <th>language_code</th>\n",
              "      <th>average_rating</th>\n",
              "      <th>ratings_count</th>\n",
              "      <th>work_ratings_count</th>\n",
              "      <th>work_text_reviews_count</th>\n",
              "      <th>ratings_1</th>\n",
              "      <th>ratings_2</th>\n",
              "      <th>ratings_3</th>\n",
              "      <th>ratings_4</th>\n",
              "      <th>ratings_5</th>\n",
              "    </tr>\n",
              "  </thead>\n",
              "  <tbody>\n",
              "    <tr>\n",
              "      <th>0</th>\n",
              "      <td>1</td>\n",
              "      <td>314</td>\n",
              "      <td>5</td>\n",
              "      <td>3.585635</td>\n",
              "      <td>27</td>\n",
              "      <td>1</td>\n",
              "      <td>41335427</td>\n",
              "      <td>275</td>\n",
              "      <td>2005.0</td>\n",
              "      <td>eng</td>\n",
              "      <td>4.54</td>\n",
              "      <td>1678823</td>\n",
              "      <td>1785676</td>\n",
              "      <td>27520</td>\n",
              "      <td>7308</td>\n",
              "      <td>21516</td>\n",
              "      <td>136333</td>\n",
              "      <td>459028</td>\n",
              "      <td>1161491</td>\n",
              "    </tr>\n",
              "    <tr>\n",
              "      <th>1</th>\n",
              "      <td>1</td>\n",
              "      <td>439</td>\n",
              "      <td>3</td>\n",
              "      <td>3.259887</td>\n",
              "      <td>27</td>\n",
              "      <td>1</td>\n",
              "      <td>41335427</td>\n",
              "      <td>275</td>\n",
              "      <td>2005.0</td>\n",
              "      <td>eng</td>\n",
              "      <td>4.54</td>\n",
              "      <td>1678823</td>\n",
              "      <td>1785676</td>\n",
              "      <td>27520</td>\n",
              "      <td>7308</td>\n",
              "      <td>21516</td>\n",
              "      <td>136333</td>\n",
              "      <td>459028</td>\n",
              "      <td>1161491</td>\n",
              "    </tr>\n",
              "    <tr>\n",
              "      <th>2</th>\n",
              "      <td>1</td>\n",
              "      <td>588</td>\n",
              "      <td>5</td>\n",
              "      <td>3.618280</td>\n",
              "      <td>27</td>\n",
              "      <td>1</td>\n",
              "      <td>41335427</td>\n",
              "      <td>275</td>\n",
              "      <td>2005.0</td>\n",
              "      <td>eng</td>\n",
              "      <td>4.54</td>\n",
              "      <td>1678823</td>\n",
              "      <td>1785676</td>\n",
              "      <td>27520</td>\n",
              "      <td>7308</td>\n",
              "      <td>21516</td>\n",
              "      <td>136333</td>\n",
              "      <td>459028</td>\n",
              "      <td>1161491</td>\n",
              "    </tr>\n",
              "    <tr>\n",
              "      <th>3</th>\n",
              "      <td>1</td>\n",
              "      <td>1169</td>\n",
              "      <td>4</td>\n",
              "      <td>3.770053</td>\n",
              "      <td>27</td>\n",
              "      <td>1</td>\n",
              "      <td>41335427</td>\n",
              "      <td>275</td>\n",
              "      <td>2005.0</td>\n",
              "      <td>eng</td>\n",
              "      <td>4.54</td>\n",
              "      <td>1678823</td>\n",
              "      <td>1785676</td>\n",
              "      <td>27520</td>\n",
              "      <td>7308</td>\n",
              "      <td>21516</td>\n",
              "      <td>136333</td>\n",
              "      <td>459028</td>\n",
              "      <td>1161491</td>\n",
              "    </tr>\n",
              "    <tr>\n",
              "      <th>4</th>\n",
              "      <td>1</td>\n",
              "      <td>1185</td>\n",
              "      <td>4</td>\n",
              "      <td>3.473684</td>\n",
              "      <td>27</td>\n",
              "      <td>1</td>\n",
              "      <td>41335427</td>\n",
              "      <td>275</td>\n",
              "      <td>2005.0</td>\n",
              "      <td>eng</td>\n",
              "      <td>4.54</td>\n",
              "      <td>1678823</td>\n",
              "      <td>1785676</td>\n",
              "      <td>27520</td>\n",
              "      <td>7308</td>\n",
              "      <td>21516</td>\n",
              "      <td>136333</td>\n",
              "      <td>459028</td>\n",
              "      <td>1161491</td>\n",
              "    </tr>\n",
              "  </tbody>\n",
              "</table>\n",
              "</div>"
            ],
            "text/plain": [
              "   book_id  user_id  rating  ...  ratings_3  ratings_4  ratings_5\n",
              "0        1      314       5  ...     136333     459028    1161491\n",
              "1        1      439       3  ...     136333     459028    1161491\n",
              "2        1      588       5  ...     136333     459028    1161491\n",
              "3        1     1169       4  ...     136333     459028    1161491\n",
              "4        1     1185       4  ...     136333     459028    1161491\n",
              "\n",
              "[5 rows x 19 columns]"
            ]
          },
          "metadata": {
            "tags": []
          },
          "execution_count": 125
        }
      ]
    },
    {
      "cell_type": "code",
      "metadata": {
        "id": "8-x3BMZYtH7N",
        "colab_type": "code",
        "colab": {
          "base_uri": "https://localhost:8080/",
          "height": 218
        },
        "outputId": "bf2f1c7a-a796-406f-efec-95b00ab8e03e"
      },
      "source": [
        "df_merged['read_next'] = np.where(df_merged['rating'] == 5, True, False)\n",
        "df_merged.head()"
      ],
      "execution_count": 182,
      "outputs": [
        {
          "output_type": "execute_result",
          "data": {
            "text/html": [
              "<div>\n",
              "<style scoped>\n",
              "    .dataframe tbody tr th:only-of-type {\n",
              "        vertical-align: middle;\n",
              "    }\n",
              "\n",
              "    .dataframe tbody tr th {\n",
              "        vertical-align: top;\n",
              "    }\n",
              "\n",
              "    .dataframe thead th {\n",
              "        text-align: right;\n",
              "    }\n",
              "</style>\n",
              "<table border=\"1\" class=\"dataframe\">\n",
              "  <thead>\n",
              "    <tr style=\"text-align: right;\">\n",
              "      <th></th>\n",
              "      <th>book_id</th>\n",
              "      <th>user_id</th>\n",
              "      <th>rating</th>\n",
              "      <th>average_user_rating</th>\n",
              "      <th>id</th>\n",
              "      <th>best_book_id</th>\n",
              "      <th>work_id</th>\n",
              "      <th>books_count</th>\n",
              "      <th>original_publication_year</th>\n",
              "      <th>language_code</th>\n",
              "      <th>average_rating</th>\n",
              "      <th>ratings_count</th>\n",
              "      <th>work_ratings_count</th>\n",
              "      <th>work_text_reviews_count</th>\n",
              "      <th>ratings_1</th>\n",
              "      <th>ratings_2</th>\n",
              "      <th>ratings_3</th>\n",
              "      <th>ratings_4</th>\n",
              "      <th>ratings_5</th>\n",
              "      <th>read_next</th>\n",
              "    </tr>\n",
              "  </thead>\n",
              "  <tbody>\n",
              "    <tr>\n",
              "      <th>0</th>\n",
              "      <td>1</td>\n",
              "      <td>314</td>\n",
              "      <td>5</td>\n",
              "      <td>3.585635</td>\n",
              "      <td>27</td>\n",
              "      <td>1</td>\n",
              "      <td>41335427</td>\n",
              "      <td>275</td>\n",
              "      <td>2005.0</td>\n",
              "      <td>eng</td>\n",
              "      <td>4.54</td>\n",
              "      <td>1678823</td>\n",
              "      <td>1785676</td>\n",
              "      <td>27520</td>\n",
              "      <td>7308</td>\n",
              "      <td>21516</td>\n",
              "      <td>136333</td>\n",
              "      <td>459028</td>\n",
              "      <td>1161491</td>\n",
              "      <td>True</td>\n",
              "    </tr>\n",
              "    <tr>\n",
              "      <th>1</th>\n",
              "      <td>1</td>\n",
              "      <td>439</td>\n",
              "      <td>3</td>\n",
              "      <td>3.259887</td>\n",
              "      <td>27</td>\n",
              "      <td>1</td>\n",
              "      <td>41335427</td>\n",
              "      <td>275</td>\n",
              "      <td>2005.0</td>\n",
              "      <td>eng</td>\n",
              "      <td>4.54</td>\n",
              "      <td>1678823</td>\n",
              "      <td>1785676</td>\n",
              "      <td>27520</td>\n",
              "      <td>7308</td>\n",
              "      <td>21516</td>\n",
              "      <td>136333</td>\n",
              "      <td>459028</td>\n",
              "      <td>1161491</td>\n",
              "      <td>False</td>\n",
              "    </tr>\n",
              "    <tr>\n",
              "      <th>2</th>\n",
              "      <td>1</td>\n",
              "      <td>588</td>\n",
              "      <td>5</td>\n",
              "      <td>3.618280</td>\n",
              "      <td>27</td>\n",
              "      <td>1</td>\n",
              "      <td>41335427</td>\n",
              "      <td>275</td>\n",
              "      <td>2005.0</td>\n",
              "      <td>eng</td>\n",
              "      <td>4.54</td>\n",
              "      <td>1678823</td>\n",
              "      <td>1785676</td>\n",
              "      <td>27520</td>\n",
              "      <td>7308</td>\n",
              "      <td>21516</td>\n",
              "      <td>136333</td>\n",
              "      <td>459028</td>\n",
              "      <td>1161491</td>\n",
              "      <td>True</td>\n",
              "    </tr>\n",
              "    <tr>\n",
              "      <th>3</th>\n",
              "      <td>1</td>\n",
              "      <td>1169</td>\n",
              "      <td>4</td>\n",
              "      <td>3.770053</td>\n",
              "      <td>27</td>\n",
              "      <td>1</td>\n",
              "      <td>41335427</td>\n",
              "      <td>275</td>\n",
              "      <td>2005.0</td>\n",
              "      <td>eng</td>\n",
              "      <td>4.54</td>\n",
              "      <td>1678823</td>\n",
              "      <td>1785676</td>\n",
              "      <td>27520</td>\n",
              "      <td>7308</td>\n",
              "      <td>21516</td>\n",
              "      <td>136333</td>\n",
              "      <td>459028</td>\n",
              "      <td>1161491</td>\n",
              "      <td>False</td>\n",
              "    </tr>\n",
              "    <tr>\n",
              "      <th>4</th>\n",
              "      <td>1</td>\n",
              "      <td>1185</td>\n",
              "      <td>4</td>\n",
              "      <td>3.473684</td>\n",
              "      <td>27</td>\n",
              "      <td>1</td>\n",
              "      <td>41335427</td>\n",
              "      <td>275</td>\n",
              "      <td>2005.0</td>\n",
              "      <td>eng</td>\n",
              "      <td>4.54</td>\n",
              "      <td>1678823</td>\n",
              "      <td>1785676</td>\n",
              "      <td>27520</td>\n",
              "      <td>7308</td>\n",
              "      <td>21516</td>\n",
              "      <td>136333</td>\n",
              "      <td>459028</td>\n",
              "      <td>1161491</td>\n",
              "      <td>False</td>\n",
              "    </tr>\n",
              "  </tbody>\n",
              "</table>\n",
              "</div>"
            ],
            "text/plain": [
              "   book_id  user_id  rating  ...  ratings_4  ratings_5  read_next\n",
              "0        1      314       5  ...     459028    1161491       True\n",
              "1        1      439       3  ...     459028    1161491      False\n",
              "2        1      588       5  ...     459028    1161491       True\n",
              "3        1     1169       4  ...     459028    1161491      False\n",
              "4        1     1185       4  ...     459028    1161491      False\n",
              "\n",
              "[5 rows x 20 columns]"
            ]
          },
          "metadata": {
            "tags": []
          },
          "execution_count": 182
        }
      ]
    },
    {
      "cell_type": "code",
      "metadata": {
        "id": "7SdcLunXtPzp",
        "colab_type": "code",
        "colab": {
          "base_uri": "https://localhost:8080/",
          "height": 35
        },
        "outputId": "908c8331-4669-4dff-bb75-40de0485bde0"
      },
      "source": [
        "df_merged.shape"
      ],
      "execution_count": 183,
      "outputs": [
        {
          "output_type": "execute_result",
          "data": {
            "text/plain": [
              "(79701, 20)"
            ]
          },
          "metadata": {
            "tags": []
          },
          "execution_count": 183
        }
      ]
    },
    {
      "cell_type": "code",
      "metadata": {
        "id": "Hm7cgLfwtSvO",
        "colab_type": "code",
        "colab": {
          "base_uri": "https://localhost:8080/",
          "height": 310
        },
        "outputId": "0c010dab-6d6c-445a-9419-da79a930c8a0"
      },
      "source": [
        "def roundup(x):\n",
        "  return 100 +int(math.ceil(x/100.0)) * 100\n",
        "\n",
        "sns.factorplot('read_next', data=df_merged, kind='count',\n",
        "               alpha=0.7, size=4, aspect=1)\n",
        "\n",
        "ax=plt.gca()\n",
        "\n",
        "y_max = df_merged['read_next'].value_counts().max()\n",
        "ax.set_ylim([0, roundup(y_max)])\n",
        "\n",
        "for p in ax.patches:\n",
        "  ax.text(p.get_x() + p.get_width()/2., p.get_height(),\n",
        "          '%d' % int(p.get_height()),\n",
        "          fontsize=12, color='blue', ha='center', va='bottom')\n",
        "# plt.savefig('factor_plot.png', dpi=300)"
      ],
      "execution_count": 184,
      "outputs": [
        {
          "output_type": "display_data",
          "data": {
            "image/png": "[encoded data removed]",
            "text/plain": [
              "<Figure size 288x288 with 1 Axes>"
            ]
          },
          "metadata": {
            "tags": [],
            "needs_background": "light"
          }
        }
      ]
    },
    {
      "cell_type": "code",
      "metadata": {
        "id": "EqI3xD9jq8zL",
        "colab_type": "code",
        "colab": {}
      },
      "source": [
        "#split into a two dfs \n",
        "#train_val will be split again for training and validation\n",
        "#test will be held out for testing\n",
        "\n",
        "from sklearn.model_selection import train_test_split\n",
        "\n",
        "train_val, test = train_test_split(df_merged, train_size=0.85, test_size=0.15,\n",
        "                              stratify=df_merged['read_next'], random_state=42)\n"
      ],
      "execution_count": 126,
      "outputs": []
    },
    {
      "cell_type": "code",
      "metadata": {
        "id": "l4felrc3_2K8",
        "colab_type": "code",
        "colab": {}
      },
      "source": [
        "#split train_val into a train and test set\n",
        "train, val = train_test_split(train_val, train_size=0.85, test_size=0.15,\n",
        "                              stratify=train_val['read_next'], random_state=42)"
      ],
      "execution_count": 127,
      "outputs": []
    },
    {
      "cell_type": "code",
      "metadata": {
        "id": "hfD4CrXWEUco",
        "colab_type": "code",
        "colab": {}
      },
      "source": [
        "def wrangle(X):\n",
        "  \n",
        "  #Prevent SettingWithCopyWarning\n",
        "  X = X.copy()\n",
        "\n",
        "  #create a new bool column which represents a 5 star rating\n",
        "  # X['read_next'] = np.where(X['rating'] == 5, True, False)\n",
        "\n",
        "  #convert original_publication_year to a data\n",
        "  X['original_publication_year'] = pd.to_datetime(X['original_publication_year'], infer_datetime_format=True)\n",
        "  \n",
        "  #Pull year out \n",
        "  X['year_published'] = X['original_publication_year'].dt.year\n",
        "  X = X.drop(columns='original_publication_year')\n",
        "\n",
        "  #the model can be too picky, and simply never picks 5 stars - dropping columns may help\n",
        "  # X = X.drop(columns=['ratings_1', 'ratings_2', 'ratings_3', 'ratings_4', 'ratings_5'])\n",
        "\n",
        "  #5 star percentage\n",
        "  X['5_star_percentage'] = X['ratings_5'] / (X['ratings_1'] + X['ratings_2'] + X['ratings_3'] +\n",
        "                                             X['ratings_4'] + X['ratings_5'])\n",
        "  \n",
        "\n",
        "\n",
        "  return(X)"
      ],
      "execution_count": 128,
      "outputs": []
    },
    {
      "cell_type": "code",
      "metadata": {
        "id": "cFBExxKA4WpJ",
        "colab_type": "code",
        "colab": {}
      },
      "source": [
        "train_wrangled = wrangle(train)\n",
        "val_wrangled = wrangle(val)\n",
        "test_wrangled = wrangle(test)"
      ],
      "execution_count": 129,
      "outputs": []
    },
    {
      "cell_type": "code",
      "metadata": {
        "id": "AOxvP5fGEbeM",
        "colab_type": "code",
        "colab": {
          "base_uri": "https://localhost:8080/",
          "height": 69
        },
        "outputId": "898d931f-a87d-4219-aa46-026a507f5589"
      },
      "source": [
        "train_wrangled['read_next'].value_counts(normalize=True)"
      ],
      "execution_count": 130,
      "outputs": [
        {
          "output_type": "execute_result",
          "data": {
            "text/plain": [
              "False    0.698852\n",
              "True     0.301148\n",
              "Name: read_next, dtype: float64"
            ]
          },
          "metadata": {
            "tags": []
          },
          "execution_count": 130
        }
      ]
    },
    {
      "cell_type": "code",
      "metadata": {
        "id": "LM68vdCnYPiV",
        "colab_type": "code",
        "colab": {
          "base_uri": "https://localhost:8080/",
          "height": 218
        },
        "outputId": "c8a6cdf2-a616-44bd-e54a-5b63cef46175"
      },
      "source": [
        "train_wrangled.head()"
      ],
      "execution_count": 131,
      "outputs": [
        {
          "output_type": "execute_result",
          "data": {
            "text/html": [
              "<div>\n",
              "<style scoped>\n",
              "    .dataframe tbody tr th:only-of-type {\n",
              "        vertical-align: middle;\n",
              "    }\n",
              "\n",
              "    .dataframe tbody tr th {\n",
              "        vertical-align: top;\n",
              "    }\n",
              "\n",
              "    .dataframe thead th {\n",
              "        text-align: right;\n",
              "    }\n",
              "</style>\n",
              "<table border=\"1\" class=\"dataframe\">\n",
              "  <thead>\n",
              "    <tr style=\"text-align: right;\">\n",
              "      <th></th>\n",
              "      <th>book_id</th>\n",
              "      <th>user_id</th>\n",
              "      <th>rating</th>\n",
              "      <th>average_user_rating</th>\n",
              "      <th>id</th>\n",
              "      <th>best_book_id</th>\n",
              "      <th>work_id</th>\n",
              "      <th>books_count</th>\n",
              "      <th>language_code</th>\n",
              "      <th>average_rating</th>\n",
              "      <th>ratings_count</th>\n",
              "      <th>work_ratings_count</th>\n",
              "      <th>work_text_reviews_count</th>\n",
              "      <th>ratings_1</th>\n",
              "      <th>ratings_2</th>\n",
              "      <th>ratings_3</th>\n",
              "      <th>ratings_4</th>\n",
              "      <th>ratings_5</th>\n",
              "      <th>read_next</th>\n",
              "      <th>year_published</th>\n",
              "      <th>5_star_percentage</th>\n",
              "    </tr>\n",
              "  </thead>\n",
              "  <tbody>\n",
              "    <tr>\n",
              "      <th>35171</th>\n",
              "      <td>9822</td>\n",
              "      <td>39176</td>\n",
              "      <td>5</td>\n",
              "      <td>4.720000</td>\n",
              "      <td>738</td>\n",
              "      <td>9822</td>\n",
              "      <td>839692</td>\n",
              "      <td>73</td>\n",
              "      <td>NaN</td>\n",
              "      <td>4.13</td>\n",
              "      <td>135978</td>\n",
              "      <td>142350</td>\n",
              "      <td>2718</td>\n",
              "      <td>1620</td>\n",
              "      <td>4727</td>\n",
              "      <td>26279</td>\n",
              "      <td>50968</td>\n",
              "      <td>58756</td>\n",
              "      <td>True</td>\n",
              "      <td>1970.0</td>\n",
              "      <td>0.412757</td>\n",
              "    </tr>\n",
              "    <tr>\n",
              "      <th>52974</th>\n",
              "      <td>8953</td>\n",
              "      <td>33962</td>\n",
              "      <td>1</td>\n",
              "      <td>3.714286</td>\n",
              "      <td>2961</td>\n",
              "      <td>8953</td>\n",
              "      <td>2049173</td>\n",
              "      <td>43</td>\n",
              "      <td>eng</td>\n",
              "      <td>3.98</td>\n",
              "      <td>34587</td>\n",
              "      <td>35493</td>\n",
              "      <td>3302</td>\n",
              "      <td>820</td>\n",
              "      <td>2063</td>\n",
              "      <td>7351</td>\n",
              "      <td>11982</td>\n",
              "      <td>13277</td>\n",
              "      <td>False</td>\n",
              "      <td>1970.0</td>\n",
              "      <td>0.374074</td>\n",
              "    </tr>\n",
              "    <tr>\n",
              "      <th>55553</th>\n",
              "      <td>6150</td>\n",
              "      <td>17920</td>\n",
              "      <td>5</td>\n",
              "      <td>3.312500</td>\n",
              "      <td>2190</td>\n",
              "      <td>6150</td>\n",
              "      <td>59082</td>\n",
              "      <td>123</td>\n",
              "      <td>eng</td>\n",
              "      <td>3.87</td>\n",
              "      <td>47389</td>\n",
              "      <td>53681</td>\n",
              "      <td>3213</td>\n",
              "      <td>1524</td>\n",
              "      <td>3969</td>\n",
              "      <td>11995</td>\n",
              "      <td>18837</td>\n",
              "      <td>17356</td>\n",
              "      <td>True</td>\n",
              "      <td>1970.0</td>\n",
              "      <td>0.323317</td>\n",
              "    </tr>\n",
              "    <tr>\n",
              "      <th>31639</th>\n",
              "      <td>1519</td>\n",
              "      <td>28459</td>\n",
              "      <td>5</td>\n",
              "      <td>3.369863</td>\n",
              "      <td>4149</td>\n",
              "      <td>1519</td>\n",
              "      <td>2378</td>\n",
              "      <td>255</td>\n",
              "      <td>eng</td>\n",
              "      <td>3.99</td>\n",
              "      <td>24588</td>\n",
              "      <td>28162</td>\n",
              "      <td>705</td>\n",
              "      <td>323</td>\n",
              "      <td>1471</td>\n",
              "      <td>6415</td>\n",
              "      <td>9813</td>\n",
              "      <td>10140</td>\n",
              "      <td>True</td>\n",
              "      <td>1969.0</td>\n",
              "      <td>0.360060</td>\n",
              "    </tr>\n",
              "    <tr>\n",
              "      <th>40648</th>\n",
              "      <td>3412</td>\n",
              "      <td>24966</td>\n",
              "      <td>4</td>\n",
              "      <td>3.600000</td>\n",
              "      <td>311</td>\n",
              "      <td>3412</td>\n",
              "      <td>816449</td>\n",
              "      <td>201</td>\n",
              "      <td>eng</td>\n",
              "      <td>4.22</td>\n",
              "      <td>255651</td>\n",
              "      <td>266826</td>\n",
              "      <td>4556</td>\n",
              "      <td>2889</td>\n",
              "      <td>9117</td>\n",
              "      <td>42299</td>\n",
              "      <td>85531</td>\n",
              "      <td>126990</td>\n",
              "      <td>False</td>\n",
              "      <td>1970.0</td>\n",
              "      <td>0.475928</td>\n",
              "    </tr>\n",
              "  </tbody>\n",
              "</table>\n",
              "</div>"
            ],
            "text/plain": [
              "       book_id  user_id  rating  ...  read_next  year_published  5_star_percentage\n",
              "35171     9822    39176       5  ...       True          1970.0           0.412757\n",
              "52974     8953    33962       1  ...      False          1970.0           0.374074\n",
              "55553     6150    17920       5  ...       True          1970.0           0.323317\n",
              "31639     1519    28459       5  ...       True          1969.0           0.360060\n",
              "40648     3412    24966       4  ...      False          1970.0           0.475928\n",
              "\n",
              "[5 rows x 21 columns]"
            ]
          },
          "metadata": {
            "tags": []
          },
          "execution_count": 131
        }
      ]
    },
    {
      "cell_type": "code",
      "metadata": {
        "id": "g6cvllLdq9Tj",
        "colab_type": "code",
        "colab": {}
      },
      "source": [
        "# The fv_time_total_production column is the target\n",
        "target = 'read_next'\n",
        "\n",
        "# Get a dataframe with all train columns except the target\n",
        "train_features = train_wrangled.drop(columns=[target, 'rating'])\n",
        "\n",
        "# Get a list of the numeric features\n",
        "numeric_features = train_features.select_dtypes(include='number').columns.tolist()\n",
        "\n",
        "# Get a series with the cardinality of the nonnumeric features\n",
        "cardinality = train_features.select_dtypes(exclude='number').nunique()\n",
        "\n",
        "# Get a list of all categorical features with cardinality <= 50\n",
        "categorical_features = cardinality[cardinality <= 50].index.tolist()\n",
        "\n",
        "# Combine the lists \n",
        "features = numeric_features + categorical_features"
      ],
      "execution_count": 133,
      "outputs": []
    },
    {
      "cell_type": "code",
      "metadata": {
        "id": "200dUm_2r8Lo",
        "colab_type": "code",
        "colab": {}
      },
      "source": [
        "X_train = train_wrangled[features]\n",
        "y_train = train_wrangled[target]\n",
        "X_val = val_wrangled[features]\n",
        "y_val = val_wrangled[target]\n",
        "X_test = test_wrangled[features]\n",
        "y_test = test_wrangled[target]"
      ],
      "execution_count": 134,
      "outputs": []
    },
    {
      "cell_type": "code",
      "metadata": {
        "id": "ybLLGnY2rmEN",
        "colab_type": "code",
        "colab": {
          "base_uri": "https://localhost:8080/",
          "height": 35
        },
        "outputId": "592516bb-22ee-4fe9-85f4-7560dc7761f8"
      },
      "source": [
        "y_train.shape"
      ],
      "execution_count": 178,
      "outputs": [
        {
          "output_type": "execute_result",
          "data": {
            "text/plain": [
              "(57583,)"
            ]
          },
          "metadata": {
            "tags": []
          },
          "execution_count": 178
        }
      ]
    },
    {
      "cell_type": "code",
      "metadata": {
        "id": "fBRzuZybP4TC",
        "colab_type": "code",
        "colab": {}
      },
      "source": [
        "# !pip install pdpbox\n",
        "# from pdpbox.pdp import pdp_interact, pdp_interact_plot"
      ],
      "execution_count": null,
      "outputs": []
    },
    {
      "cell_type": "code",
      "metadata": {
        "id": "VDqBhrFkRFxN",
        "colab_type": "code",
        "colab": {
          "base_uri": "https://localhost:8080/",
          "height": 218
        },
        "outputId": "dc24fb06-f90d-4ab6-d643-532dbefffbfe"
      },
      "source": [
        "X_train.head()"
      ],
      "execution_count": 138,
      "outputs": [
        {
          "output_type": "execute_result",
          "data": {
            "text/html": [
              "<div>\n",
              "<style scoped>\n",
              "    .dataframe tbody tr th:only-of-type {\n",
              "        vertical-align: middle;\n",
              "    }\n",
              "\n",
              "    .dataframe tbody tr th {\n",
              "        vertical-align: top;\n",
              "    }\n",
              "\n",
              "    .dataframe thead th {\n",
              "        text-align: right;\n",
              "    }\n",
              "</style>\n",
              "<table border=\"1\" class=\"dataframe\">\n",
              "  <thead>\n",
              "    <tr style=\"text-align: right;\">\n",
              "      <th></th>\n",
              "      <th>book_id</th>\n",
              "      <th>user_id</th>\n",
              "      <th>average_user_rating</th>\n",
              "      <th>id</th>\n",
              "      <th>best_book_id</th>\n",
              "      <th>work_id</th>\n",
              "      <th>books_count</th>\n",
              "      <th>average_rating</th>\n",
              "      <th>ratings_count</th>\n",
              "      <th>work_ratings_count</th>\n",
              "      <th>work_text_reviews_count</th>\n",
              "      <th>ratings_1</th>\n",
              "      <th>ratings_2</th>\n",
              "      <th>ratings_3</th>\n",
              "      <th>ratings_4</th>\n",
              "      <th>ratings_5</th>\n",
              "      <th>year_published</th>\n",
              "      <th>5_star_percentage</th>\n",
              "      <th>language_code</th>\n",
              "    </tr>\n",
              "  </thead>\n",
              "  <tbody>\n",
              "    <tr>\n",
              "      <th>35171</th>\n",
              "      <td>9822</td>\n",
              "      <td>39176</td>\n",
              "      <td>4.720000</td>\n",
              "      <td>738</td>\n",
              "      <td>9822</td>\n",
              "      <td>839692</td>\n",
              "      <td>73</td>\n",
              "      <td>4.13</td>\n",
              "      <td>135978</td>\n",
              "      <td>142350</td>\n",
              "      <td>2718</td>\n",
              "      <td>1620</td>\n",
              "      <td>4727</td>\n",
              "      <td>26279</td>\n",
              "      <td>50968</td>\n",
              "      <td>58756</td>\n",
              "      <td>1970.0</td>\n",
              "      <td>0.412757</td>\n",
              "      <td>NaN</td>\n",
              "    </tr>\n",
              "    <tr>\n",
              "      <th>52974</th>\n",
              "      <td>8953</td>\n",
              "      <td>33962</td>\n",
              "      <td>3.714286</td>\n",
              "      <td>2961</td>\n",
              "      <td>8953</td>\n",
              "      <td>2049173</td>\n",
              "      <td>43</td>\n",
              "      <td>3.98</td>\n",
              "      <td>34587</td>\n",
              "      <td>35493</td>\n",
              "      <td>3302</td>\n",
              "      <td>820</td>\n",
              "      <td>2063</td>\n",
              "      <td>7351</td>\n",
              "      <td>11982</td>\n",
              "      <td>13277</td>\n",
              "      <td>1970.0</td>\n",
              "      <td>0.374074</td>\n",
              "      <td>eng</td>\n",
              "    </tr>\n",
              "    <tr>\n",
              "      <th>55553</th>\n",
              "      <td>6150</td>\n",
              "      <td>17920</td>\n",
              "      <td>3.312500</td>\n",
              "      <td>2190</td>\n",
              "      <td>6150</td>\n",
              "      <td>59082</td>\n",
              "      <td>123</td>\n",
              "      <td>3.87</td>\n",
              "      <td>47389</td>\n",
              "      <td>53681</td>\n",
              "      <td>3213</td>\n",
              "      <td>1524</td>\n",
              "      <td>3969</td>\n",
              "      <td>11995</td>\n",
              "      <td>18837</td>\n",
              "      <td>17356</td>\n",
              "      <td>1970.0</td>\n",
              "      <td>0.323317</td>\n",
              "      <td>eng</td>\n",
              "    </tr>\n",
              "    <tr>\n",
              "      <th>31639</th>\n",
              "      <td>1519</td>\n",
              "      <td>28459</td>\n",
              "      <td>3.369863</td>\n",
              "      <td>4149</td>\n",
              "      <td>1519</td>\n",
              "      <td>2378</td>\n",
              "      <td>255</td>\n",
              "      <td>3.99</td>\n",
              "      <td>24588</td>\n",
              "      <td>28162</td>\n",
              "      <td>705</td>\n",
              "      <td>323</td>\n",
              "      <td>1471</td>\n",
              "      <td>6415</td>\n",
              "      <td>9813</td>\n",
              "      <td>10140</td>\n",
              "      <td>1969.0</td>\n",
              "      <td>0.360060</td>\n",
              "      <td>eng</td>\n",
              "    </tr>\n",
              "    <tr>\n",
              "      <th>40648</th>\n",
              "      <td>3412</td>\n",
              "      <td>24966</td>\n",
              "      <td>3.600000</td>\n",
              "      <td>311</td>\n",
              "      <td>3412</td>\n",
              "      <td>816449</td>\n",
              "      <td>201</td>\n",
              "      <td>4.22</td>\n",
              "      <td>255651</td>\n",
              "      <td>266826</td>\n",
              "      <td>4556</td>\n",
              "      <td>2889</td>\n",
              "      <td>9117</td>\n",
              "      <td>42299</td>\n",
              "      <td>85531</td>\n",
              "      <td>126990</td>\n",
              "      <td>1970.0</td>\n",
              "      <td>0.475928</td>\n",
              "      <td>eng</td>\n",
              "    </tr>\n",
              "  </tbody>\n",
              "</table>\n",
              "</div>"
            ],
            "text/plain": [
              "       book_id  user_id  ...  5_star_percentage  language_code\n",
              "35171     9822    39176  ...           0.412757            NaN\n",
              "52974     8953    33962  ...           0.374074            eng\n",
              "55553     6150    17920  ...           0.323317            eng\n",
              "31639     1519    28459  ...           0.360060            eng\n",
              "40648     3412    24966  ...           0.475928            eng\n",
              "\n",
              "[5 rows x 19 columns]"
            ]
          },
          "metadata": {
            "tags": []
          },
          "execution_count": 138
        }
      ]
    },
    {
      "cell_type": "code",
      "metadata": {
        "id": "KZBK7VuZsDKQ",
        "colab_type": "code",
        "colab": {}
      },
      "source": [
        "!pip install category_encoders==2.*\n",
        "from sklearn.ensemble import RandomForestClassifier\n",
        "from sklearn.impute import SimpleImputer\n",
        "from sklearn.pipeline import make_pipeline\n",
        "!pip from sklearn.feature_selection import f_regression, SelectKbest\n",
        "from sklearn.model_selection import GridSearchCV, RandomizedSearchCV\n",
        "from scipy.stats import randint, uniform\n",
        "import category_encoders as ce "
      ],
      "execution_count": null,
      "outputs": []
    },
    {
      "cell_type": "code",
      "metadata": {
        "id": "s2S3Ffvv9Us-",
        "colab_type": "code",
        "colab": {}
      },
      "source": [
        "# do a kmeans clustering based on users and ratings"
      ],
      "execution_count": null,
      "outputs": []
    },
    {
      "cell_type": "code",
      "metadata": {
        "id": "SsOnXL7usKNj",
        "colab_type": "code",
        "colab": {}
      },
      "source": [
        "pipeline = make_pipeline(\n",
        "    ce.ordinal.OrdinalEncoder(),\n",
        "    SimpleImputer(),\n",
        "    RandomForestClassifier()\n",
        ")    \n",
        "\n",
        "param_distributions = {     \n",
        "    'simpleimputer__strategy': ['mean', 'median'], \n",
        "    'randomforestclassifier__criterion': ['gini', 'entropy'],\n",
        "    'randomforestclassifier__n_estimators': randint(50, 500), \n",
        "    'randomforestclassifier__min_samples_split': range(1, 15),\n",
        "    'randomforestclassifier__min_samples_leaf': range(1, 20),\n",
        "    'randomforestclassifier__max_depth': range(3, 20), \n",
        "    'randomforestclassifier__max_features': uniform(0, 2)\n",
        "   \n",
        "}\n",
        "\n",
        "search = RandomizedSearchCV(\n",
        "    pipeline, \n",
        "    param_distributions=param_distributions, \n",
        "    n_iter=30, \n",
        "    cv=5, \n",
        "    scoring='accuracy', \n",
        "    verbose=10, \n",
        "    return_train_score=True, \n",
        "    n_jobs=-1\n",
        ")\n",
        "\n",
        "search.fit(X_train, y_train);"
      ],
      "execution_count": null,
      "outputs": []
    },
    {
      "cell_type": "code",
      "metadata": {
        "id": "KXbwaUF2sKSo",
        "colab_type": "code",
        "colab": {
          "base_uri": "https://localhost:8080/",
          "height": 72
        },
        "outputId": "3e3869e2-7f47-4827-f133-f4fe1ea400fb"
      },
      "source": [
        "#hyperparameters and score\n",
        "print('Best hyperparameters', search.best_params_)\n",
        "print('Cross-validation accuracy', search.best_score_)"
      ],
      "execution_count": 142,
      "outputs": [
        {
          "output_type": "stream",
          "text": [
            "Best hyperparameters {'randomforestclassifier__criterion': 'entropy', 'randomforestclassifier__max_depth': 13, 'randomforestclassifier__max_features': 0.2978042480039582, 'randomforestclassifier__min_samples_leaf': 3, 'randomforestclassifier__min_samples_split': 6, 'randomforestclassifier__n_estimators': 78, 'simpleimputer__strategy': 'mean'}\n",
            "Cross-validation accuracy 0.7815326923731725\n"
          ],
          "name": "stdout"
        }
      ]
    },
    {
      "cell_type": "code",
      "metadata": {
        "id": "kn4boGN_hYM7",
        "colab_type": "code",
        "colab": {}
      },
      "source": [
        "model = search.best_estimator_"
      ],
      "execution_count": 143,
      "outputs": []
    },
    {
      "cell_type": "code",
      "metadata": {
        "id": "CmM1VVRl9Lms",
        "colab_type": "code",
        "colab": {}
      },
      "source": [
        "pipeline = make_pipeline(\n",
        "    ce.ordinal.OrdinalEncoder(),\n",
        "    SimpleImputer(strategy='median'),\n",
        "    RandomForestClassifier(criterion='entropy', max_depth=13,\n",
        "                           max_features=0.2978042480039582, min_samples_leaf=3,\n",
        "                           min_samples_split=6, n_estimators=78)\n",
        ")  "
      ],
      "execution_count": 144,
      "outputs": []
    },
    {
      "cell_type": "code",
      "metadata": {
        "id": "DPZi_LUbRWnU",
        "colab_type": "code",
        "colab": {}
      },
      "source": [
        "features = ['ratings_count', 'average_rating']\n",
        "\n",
        "interact = pdp_interact(\n",
        "    model=pipeline,\n",
        "    dataset=X_val,\n",
        "    model_features=X_val.columns,\n",
        "    features=features\n",
        ")"
      ],
      "execution_count": null,
      "outputs": []
    },
    {
      "cell_type": "code",
      "metadata": {
        "id": "VNo7PsWsSjzx",
        "colab_type": "code",
        "colab": {
          "base_uri": "https://localhost:8080/",
          "height": 581
        },
        "outputId": "8559824b-b6ea-49cb-df01-4ed253ef666f"
      },
      "source": [
        "PDP_plot = pdp_interact_plot(interact, plot_type='grid', feature_names=features)\n",
        "\n",
        "plt.savefig('PDP_plot.png', dpi=300);"
      ],
      "execution_count": 156,
      "outputs": [
        {
          "output_type": "display_data",
          "data": {
            "image/png": "[encoded data removed]",
            "text/plain": [
              "<Figure size 540x684 with 3 Axes>"
            ]
          },
          "metadata": {
            "tags": [],
            "needs_background": "light"
          }
        }
      ]
    },
    {
      "cell_type": "code",
      "metadata": {
        "id": "fgaJmk1BlOxW",
        "colab_type": "code",
        "colab": {}
      },
      "source": [
        "rf = pipeline.named_steps['randomforestclassifier']\n",
        "importances = pd.Series(rf.feature_importances_, X_train.columns)\n",
        "\n",
        "# Plot feature importances\n",
        "%matplotlib inline\n",
        "import matplotlib.pyplot as plt\n",
        "\n",
        "n = 40\n",
        "plt.figure(figsize=(10,n/2))\n",
        "plt.title(f'Top {n} features')\n",
        "importances.sort_values()[-n:].plot.barh(color='grey');"
      ],
      "execution_count": null,
      "outputs": []
    },
    {
      "cell_type": "code",
      "metadata": {
        "id": "-yEfIDN899lT",
        "colab_type": "code",
        "colab": {
          "base_uri": "https://localhost:8080/",
          "height": 35
        },
        "outputId": "c8573744-7b8e-4860-f66c-fce3afded9be"
      },
      "source": [
        "pipeline.fit(X_val, y_val)\n",
        "print(f'Accuracy: {pipeline.score(X_val, y_val)}')"
      ],
      "execution_count": 63,
      "outputs": [
        {
          "output_type": "stream",
          "text": [
            "Accuracy: 0.8404841566620744\n"
          ],
          "name": "stdout"
        }
      ]
    },
    {
      "cell_type": "code",
      "metadata": {
        "id": "r_fQp5k1AO7B",
        "colab_type": "code",
        "colab": {
          "base_uri": "https://localhost:8080/",
          "height": 35
        },
        "outputId": "d48a85a5-84fb-479c-c68a-df52ad623e25"
      },
      "source": [
        "from sklearn.metrics import accuracy_score\n",
        "y_pred = pipeline.predict(X_test)\n",
        "accuracy = accuracy_score(y_test, y_pred)\n",
        "print(f'Test accuracy: {accuracy:,.6f}')"
      ],
      "execution_count": 64,
      "outputs": [
        {
          "output_type": "stream",
          "text": [
            "Test accuracy: 0.777852\n"
          ],
          "name": "stdout"
        }
      ]
    },
    {
      "cell_type": "code",
      "metadata": {
        "id": "7VtJM-1sW4vx",
        "colab_type": "code",
        "colab": {
          "base_uri": "https://localhost:8080/",
          "height": 295
        },
        "outputId": "2de21223-7c80-4d72-c9a1-b04b218462ed"
      },
      "source": [
        "#Check the results\n",
        "from sklearn.metrics import plot_confusion_matrix\n",
        "\n",
        "confusion_matrix = plot_confusion_matrix(search, X_val, y_val,\n",
        "                      values_format='.0f', xticks_rotation='vertical', cmap=\"Blues\")\n",
        "\n",
        "plt.savefig('confusion.png', dpi=300)"
      ],
      "execution_count": 157,
      "outputs": [
        {
          "output_type": "display_data",
          "data": {
            "image/png": "[encoded data removed]",
            "text/plain": [
              "<Figure size 432x288 with 2 Axes>"
            ]
          },
          "metadata": {
            "tags": [],
            "needs_background": "light"
          }
        }
      ]
    },
    {
      "cell_type": "code",
      "metadata": {
        "id": "7jnRCG6ssKYe",
        "colab_type": "code",
        "colab": {}
      },
      "source": [
        "#what is a persons average rating\n",
        "#what if I only wanted 5 star books\n",
        "#it is probably more interesting to do only 5 star books"
      ],
      "execution_count": null,
      "outputs": []
    },
    {
      "cell_type": "code",
      "metadata": {
        "id": "Yc_FzphC06iA",
        "colab_type": "code",
        "colab": {}
      },
      "source": [
        "# What is the average rating for True recommendations that were actually false? \n",
        "#Presumably that is something I can find out. "
      ],
      "execution_count": null,
      "outputs": []
    },
    {
      "cell_type": "code",
      "metadata": {
        "id": "LeoYQo4FFfMH",
        "colab_type": "code",
        "colab": {
          "base_uri": "https://localhost:8080/",
          "height": 35
        },
        "outputId": "c074b5fc-0c8a-4d16-ada9-2227601e4f98"
      },
      "source": [
        "from joblib import dump\n",
        "dump(pipeline, 'pipeline.joblib', compress=True)"
      ],
      "execution_count": 34,
      "outputs": [
        {
          "output_type": "execute_result",
          "data": {
            "text/plain": [
              "['pipeline.joblib']"
            ]
          },
          "metadata": {
            "tags": []
          },
          "execution_count": 34
        }
      ]
    },
    {
      "cell_type": "code",
      "metadata": {
        "id": "9cmC2IVnajz1",
        "colab_type": "code",
        "colab": {
          "base_uri": "https://localhost:8080/",
          "height": 35
        },
        "outputId": "e13461d5-7f40-426f-d53c-0caf9365b3d2"
      },
      "source": [
        "!ls -1h pipeline.joblib"
      ],
      "execution_count": 36,
      "outputs": [
        {
          "output_type": "stream",
          "text": [
            "pipeline.joblib\n"
          ],
          "name": "stdout"
        }
      ]
    },
    {
      "cell_type": "code",
      "metadata": {
        "id": "RG7kDiEGapk8",
        "colab_type": "code",
        "colab": {
          "base_uri": "https://localhost:8080/",
          "height": 17
        },
        "outputId": "d0b370ec-5516-40f9-f209-133751948806"
      },
      "source": [
        "from google.colab import files\n",
        "files.download('pipeline.joblib')"
      ],
      "execution_count": 37,
      "outputs": [
        {
          "output_type": "display_data",
          "data": {
            "application/javascript": [
              "\n",
              "    async function download(id, filename, size) {\n",
              "      if (!google.colab.kernel.accessAllowed) {\n",
              "        return;\n",
              "      }\n",
              "      const div = document.createElement('div');\n",
              "      const label = document.createElement('label');\n",
              "      label.textContent = `Downloading \"${filename}\": `;\n",
              "      div.appendChild(label);\n",
              "      const progress = document.createElement('progress');\n",
              "      progress.max = size;\n",
              "      div.appendChild(progress);\n",
              "      document.body.appendChild(div);\n",
              "\n",
              "      const buffers = [];\n",
              "      let downloaded = 0;\n",
              "\n",
              "      const channel = await google.colab.kernel.comms.open(id);\n",
              "      // Send a message to notify the kernel that we're ready.\n",
              "      channel.send({})\n",
              "\n",
              "      for await (const message of channel.messages) {\n",
              "        // Send a message to notify the kernel that we're ready.\n",
              "        channel.send({})\n",
              "        if (message.buffers) {\n",
              "          for (const buffer of message.buffers) {\n",
              "            buffers.push(buffer);\n",
              "            downloaded += buffer.byteLength;\n",
              "            progress.value = downloaded;\n",
              "          }\n",
              "        }\n",
              "      }\n",
              "      const blob = new Blob(buffers, {type: 'application/binary'});\n",
              "      const a = document.createElement('a');\n",
              "      a.href = window.URL.createObjectURL(blob);\n",
              "      a.download = filename;\n",
              "      div.appendChild(a);\n",
              "      a.click();\n",
              "      div.remove();\n",
              "    }\n",
              "  "
            ],
            "text/plain": [
              "<IPython.core.display.Javascript object>"
            ]
          },
          "metadata": {
            "tags": []
          }
        },
        {
          "output_type": "display_data",
          "data": {
            "application/javascript": [
              "download(\"download_add3a7f9-756e-448e-934e-8e95228eba09\", \"pipeline.joblib\", 1056681)"
            ],
            "text/plain": [
              "<IPython.core.display.Javascript object>"
            ]
          },
          "metadata": {
            "tags": []
          }
        }
      ]
    },
    {
      "cell_type": "code",
      "metadata": {
        "id": "8MESJRXQc3XK",
        "colab_type": "code",
        "colab": {
          "base_uri": "https://localhost:8080/",
          "height": 69
        },
        "outputId": "07c53e84-b52d-4944-d5fb-29013d5a9a1b"
      },
      "source": [
        "import joblib\n",
        "import sklearn\n",
        "import category_encoders as ce\n",
        "\n",
        "\n",
        "print(f'joblib=={joblib.__version__}')\n",
        "print(f'scikit-learn=={sklearn.__version__}')\n",
        "print(f'category_encoders=={ce.__version__}')\n",
        "# print(f'pipeline=={make_pipeline.__version__}')"
      ],
      "execution_count": 40,
      "outputs": [
        {
          "output_type": "stream",
          "text": [
            "joblib==0.15.1\n",
            "scikit-learn==0.22.2.post1\n",
            "category_encoders==2.2.2\n"
          ],
          "name": "stdout"
        }
      ]
    },
    {
      "cell_type": "code",
      "metadata": {
        "id": "oFU2LFGOdKV2",
        "colab_type": "code",
        "colab": {
          "base_uri": "https://localhost:8080/",
          "height": 35
        },
        "outputId": "ac256618-f7dd-4114-d945-c84066df7a0e"
      },
      "source": [
        "def predict(user_id, book_id):\n",
        "  df = pd.DataFrame(\n",
        "      columns=['user_id', 'book_id'],\n",
        "      data = [[user_id, book_id]]\n",
        "  )\n",
        "  y_pred = pipeline.predict(df)\n",
        "  return y_pred\n",
        "\n",
        "y_pred = pipeline.predict(X_test)\n",
        "accuracy = accuracy_score(y_test, y_pred)\n",
        "print(f'Test accuracy: {accuracy:,.6f}')\n"
      ],
      "execution_count": 38,
      "outputs": [
        {
          "output_type": "stream",
          "text": [
            "Test accuracy: 0.775761\n"
          ],
          "name": "stdout"
        }
      ]
    },
    {
      "cell_type": "markdown",
      "metadata": {
        "id": "wY1RZAGsGSc-",
        "colab_type": "text"
      },
      "source": [
        "Results after deleting all the star ratings: \n",
        "- True / True = 1406\n",
        "- Cross-validation accuracy 0.7791362111679936\n",
        "\n",
        "Results with all the star ratings:\n",
        "- n_iter=30 \n",
        "- cv=5 \n",
        "- True(true) / True(false) = 1420 / 1665\n",
        "\n",
        "Results after deleting star ratings: \n",
        "- n_iter=30 \n",
        "- cv=5 \n",
        "- True(true) / True(false) = 1419 / 1666\n",
        "- False(true) = 568\n",
        "\n",
        "Results: \n",
        "- Model contained all catigories of rating\n",
        "- n_iter=30 \n",
        "- cv=5 \n",
        "- True(true) / True(false) = 1428 / 1657\n",
        "- False(true) = 571\n",
        "- Cross-validation accuracy 0.7818974460726661\n"
      ]
    },
    {
      "cell_type": "code",
      "metadata": {
        "id": "RmBmJwskf_Yk",
        "colab_type": "code",
        "colab": {
          "base_uri": "https://localhost:8080/",
          "height": 98
        },
        "outputId": "cdb9b4df-e229-421b-fe01-24257c06d0a7"
      },
      "source": [
        "row = X_test.iloc[[0]]\n",
        "row"
      ],
      "execution_count": 85,
      "outputs": [
        {
          "output_type": "execute_result",
          "data": {
            "text/html": [
              "<div>\n",
              "<style scoped>\n",
              "    .dataframe tbody tr th:only-of-type {\n",
              "        vertical-align: middle;\n",
              "    }\n",
              "\n",
              "    .dataframe tbody tr th {\n",
              "        vertical-align: top;\n",
              "    }\n",
              "\n",
              "    .dataframe thead th {\n",
              "        text-align: right;\n",
              "    }\n",
              "</style>\n",
              "<table border=\"1\" class=\"dataframe\">\n",
              "  <thead>\n",
              "    <tr style=\"text-align: right;\">\n",
              "      <th></th>\n",
              "      <th>book_id</th>\n",
              "      <th>user_id</th>\n",
              "      <th>average_user_rating</th>\n",
              "      <th>id</th>\n",
              "      <th>best_book_id</th>\n",
              "      <th>work_id</th>\n",
              "      <th>books_count</th>\n",
              "      <th>average_rating</th>\n",
              "      <th>ratings_count</th>\n",
              "      <th>work_ratings_count</th>\n",
              "      <th>work_text_reviews_count</th>\n",
              "      <th>ratings_1</th>\n",
              "      <th>ratings_2</th>\n",
              "      <th>ratings_3</th>\n",
              "      <th>ratings_4</th>\n",
              "      <th>ratings_5</th>\n",
              "      <th>year_published</th>\n",
              "      <th>5_star_percentage</th>\n",
              "      <th>language_code</th>\n",
              "    </tr>\n",
              "  </thead>\n",
              "  <tbody>\n",
              "    <tr>\n",
              "      <th>26478</th>\n",
              "      <td>8963</td>\n",
              "      <td>33099</td>\n",
              "      <td>4.933333</td>\n",
              "      <td>5497</td>\n",
              "      <td>8963</td>\n",
              "      <td>2507696</td>\n",
              "      <td>64</td>\n",
              "      <td>4.17</td>\n",
              "      <td>19326</td>\n",
              "      <td>21033</td>\n",
              "      <td>433</td>\n",
              "      <td>120</td>\n",
              "      <td>752</td>\n",
              "      <td>3868</td>\n",
              "      <td>6946</td>\n",
              "      <td>9347</td>\n",
              "      <td>1970.0</td>\n",
              "      <td>0.444397</td>\n",
              "      <td>NaN</td>\n",
              "    </tr>\n",
              "  </tbody>\n",
              "</table>\n",
              "</div>"
            ],
            "text/plain": [
              "       book_id  user_id  ...  5_star_percentage  language_code\n",
              "26478     8963    33099  ...           0.444397            NaN\n",
              "\n",
              "[1 rows x 19 columns]"
            ]
          },
          "metadata": {
            "tags": []
          },
          "execution_count": 85
        }
      ]
    },
    {
      "cell_type": "code",
      "metadata": {
        "id": "xd1UGWDjgEb9",
        "colab_type": "code",
        "colab": {
          "base_uri": "https://localhost:8080/",
          "height": 35
        },
        "outputId": "53a48909-7358-46fd-c6ca-a937c91888f1"
      },
      "source": [
        "y_test.iloc[0]\n"
      ],
      "execution_count": 86,
      "outputs": [
        {
          "output_type": "execute_result",
          "data": {
            "text/plain": [
              "True"
            ]
          },
          "metadata": {
            "tags": []
          },
          "execution_count": 86
        }
      ]
    },
    {
      "cell_type": "code",
      "metadata": {
        "id": "Vux5dfwigNbI",
        "colab_type": "code",
        "colab": {
          "base_uri": "https://localhost:8080/",
          "height": 35
        },
        "outputId": "0511fc95-0abd-46fb-959d-28664b4bfe47"
      },
      "source": [
        "model.predict(row)"
      ],
      "execution_count": 92,
      "outputs": [
        {
          "output_type": "execute_result",
          "data": {
            "text/plain": [
              "array([ True])"
            ]
          },
          "metadata": {
            "tags": []
          },
          "execution_count": 92
        }
      ]
    },
    {
      "cell_type": "code",
      "metadata": {
        "id": "-FKT9apwgT6f",
        "colab_type": "code",
        "colab": {}
      },
      "source": [
        "!pip install shap\n",
        "import shap"
      ],
      "execution_count": null,
      "outputs": []
    },
    {
      "cell_type": "code",
      "metadata": {
        "id": "NgTm3B2kgt1s",
        "colab_type": "code",
        "colab": {}
      },
      "source": [
        "explainer = shap.TreeExplainer(model)\n",
        "shap_values = explainer.shap_values(row)\n",
        "shap_values"
      ],
      "execution_count": null,
      "outputs": []
    },
    {
      "cell_type": "code",
      "metadata": {
        "id": "PH1uIljLhHzK",
        "colab_type": "code",
        "colab": {}
      },
      "source": [
        ""
      ],
      "execution_count": null,
      "outputs": []
    }
  ]
}